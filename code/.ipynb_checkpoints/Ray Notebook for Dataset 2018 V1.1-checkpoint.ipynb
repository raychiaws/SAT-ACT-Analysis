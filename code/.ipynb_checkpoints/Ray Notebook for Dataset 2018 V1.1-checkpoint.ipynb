{
 "cells": [
  {
   "cell_type": "code",
   "execution_count": 19,
   "metadata": {},
   "outputs": [],
   "source": [
    "#Imports:\n",
    "import numpy as np\n",
    "import pandas as pd\n",
    "import matplotlib.pyplot as plt"
   ]
  },
  {
   "cell_type": "code",
   "execution_count": 20,
   "metadata": {},
   "outputs": [],
   "source": [
    "#Code:\n",
    "act = pd.read_csv('../data/act_2018_updated.csv')\n",
    "sat = pd.read_csv('../data/sat_2018.csv')"
   ]
  },
  {
   "cell_type": "code",
   "execution_count": 21,
   "metadata": {},
   "outputs": [],
   "source": [
    "def clean_participation(x):\n",
    "\n",
    "    if isinstance(x, str):\n",
    "        return(x.replace('%', '').replace(',', ''))\n",
    "    return(x)"
   ]
  },
  {
   "cell_type": "code",
   "execution_count": 22,
   "metadata": {},
   "outputs": [],
   "source": [
    "\n",
    "sat['Participation'] = sat['Participation'].apply(clean_participation).astype('float')\n"
   ]
  },
  {
   "cell_type": "code",
   "execution_count": 23,
   "metadata": {},
   "outputs": [],
   "source": [
    "act.columns = act.columns.str.lower()\n",
    "sat.columns = sat.columns.str.lower()"
   ]
  },
  {
   "cell_type": "code",
   "execution_count": 24,
   "metadata": {},
   "outputs": [],
   "source": [
    "sat.rename(columns={\n",
    "    'evidence-based reading and writing': 'sat_avg_evidence-based_reading_and_writing_in_2018'\n",
    "}, inplace=True)"
   ]
  },
  {
   "cell_type": "code",
   "execution_count": 25,
   "metadata": {},
   "outputs": [],
   "source": [
    "sat.rename(columns={\n",
    "    'participation': 'percentage_of_sat_students_tested_in_2018'\n",
    "}, inplace=True)"
   ]
  },
  {
   "cell_type": "code",
   "execution_count": 26,
   "metadata": {},
   "outputs": [],
   "source": [
    "sat.rename(columns={\n",
    "    'math': 'sat_avg_math_score_in_2018'\n",
    "}, inplace=True)"
   ]
  },
  {
   "cell_type": "code",
   "execution_count": 27,
   "metadata": {},
   "outputs": [],
   "source": [
    "sat.rename(columns={\n",
    "    'total': 'total_avg_score_for_sat_in_2018'\n",
    "}, inplace=True)"
   ]
  },
  {
   "cell_type": "code",
   "execution_count": 28,
   "metadata": {},
   "outputs": [
    {
     "data": {
      "text/html": [
       "<div>\n",
       "<style scoped>\n",
       "    .dataframe tbody tr th:only-of-type {\n",
       "        vertical-align: middle;\n",
       "    }\n",
       "\n",
       "    .dataframe tbody tr th {\n",
       "        vertical-align: top;\n",
       "    }\n",
       "\n",
       "    .dataframe thead th {\n",
       "        text-align: right;\n",
       "    }\n",
       "</style>\n",
       "<table border=\"1\" class=\"dataframe\">\n",
       "  <thead>\n",
       "    <tr style=\"text-align: right;\">\n",
       "      <th></th>\n",
       "      <th>state</th>\n",
       "      <th>percentage_of_sat_students_tested_in_2018</th>\n",
       "      <th>sat_avg_evidence-based_reading_and_writing_in_2018</th>\n",
       "      <th>sat_avg_math_score_in_2018</th>\n",
       "      <th>total_avg_score_for_sat_in_2018</th>\n",
       "    </tr>\n",
       "  </thead>\n",
       "  <tbody>\n",
       "    <tr>\n",
       "      <th>0</th>\n",
       "      <td>Alabama</td>\n",
       "      <td>6.0</td>\n",
       "      <td>595</td>\n",
       "      <td>571</td>\n",
       "      <td>1166</td>\n",
       "    </tr>\n",
       "    <tr>\n",
       "      <th>1</th>\n",
       "      <td>Alaska</td>\n",
       "      <td>43.0</td>\n",
       "      <td>562</td>\n",
       "      <td>544</td>\n",
       "      <td>1106</td>\n",
       "    </tr>\n",
       "    <tr>\n",
       "      <th>2</th>\n",
       "      <td>Arizona</td>\n",
       "      <td>29.0</td>\n",
       "      <td>577</td>\n",
       "      <td>572</td>\n",
       "      <td>1149</td>\n",
       "    </tr>\n",
       "    <tr>\n",
       "      <th>3</th>\n",
       "      <td>Arkansas</td>\n",
       "      <td>5.0</td>\n",
       "      <td>592</td>\n",
       "      <td>576</td>\n",
       "      <td>1169</td>\n",
       "    </tr>\n",
       "    <tr>\n",
       "      <th>4</th>\n",
       "      <td>California</td>\n",
       "      <td>60.0</td>\n",
       "      <td>540</td>\n",
       "      <td>536</td>\n",
       "      <td>1076</td>\n",
       "    </tr>\n",
       "  </tbody>\n",
       "</table>\n",
       "</div>"
      ],
      "text/plain": [
       "        state  percentage_of_sat_students_tested_in_2018  \\\n",
       "0     Alabama                                        6.0   \n",
       "1      Alaska                                       43.0   \n",
       "2     Arizona                                       29.0   \n",
       "3    Arkansas                                        5.0   \n",
       "4  California                                       60.0   \n",
       "\n",
       "   sat_avg_evidence-based_reading_and_writing_in_2018  \\\n",
       "0                                                595    \n",
       "1                                                562    \n",
       "2                                                577    \n",
       "3                                                592    \n",
       "4                                                540    \n",
       "\n",
       "   sat_avg_math_score_in_2018  total_avg_score_for_sat_in_2018  \n",
       "0                         571                             1166  \n",
       "1                         544                             1106  \n",
       "2                         572                             1149  \n",
       "3                         576                             1169  \n",
       "4                         536                             1076  "
      ]
     },
     "execution_count": 28,
     "metadata": {},
     "output_type": "execute_result"
    }
   ],
   "source": [
    "sat.head()"
   ]
  },
  {
   "cell_type": "code",
   "execution_count": 29,
   "metadata": {},
   "outputs": [],
   "source": [
    "act.rename(columns={\n",
    "    'percentage of students tested': 'percentage_of_act_students_tested_in_2018',\n",
    "    'average composite score': 'act_average_composite_score_in_2018',\n",
    "    'average english score': 'act_average_english_score_in_2018',\n",
    "    'average math score': 'act_average_math_score_in_2018',\n",
    "    'average reading score': 'act_average_reading_score_in_2018',\n",
    "    'average science score': 'act_average_science_score_in_2018'\n",
    "}, inplace=True)"
   ]
  },
  {
   "cell_type": "code",
   "execution_count": 30,
   "metadata": {},
   "outputs": [
    {
     "name": "stdout",
     "output_type": "stream",
     "text": [
      "<class 'pandas.core.frame.DataFrame'>\n",
      "Int64Index: 51 entries, 0 to 50\n",
      "Data columns (total 11 columns):\n",
      " #   Column                                              Non-Null Count  Dtype  \n",
      "---  ------                                              --------------  -----  \n",
      " 0   state                                               51 non-null     object \n",
      " 1   percentage_of_act_students_tested_in_2018           51 non-null     int64  \n",
      " 2   act_average_composite_score_in_2018                 51 non-null     float64\n",
      " 3   act_average_english_score_in_2018                   51 non-null     float64\n",
      " 4   act_average_math_score_in_2018                      51 non-null     float64\n",
      " 5   act_average_reading_score_in_2018                   51 non-null     float64\n",
      " 6   act_average_science_score_in_2018                   51 non-null     float64\n",
      " 7   percentage_of_sat_students_tested_in_2018           51 non-null     float64\n",
      " 8   sat_avg_evidence-based_reading_and_writing_in_2018  51 non-null     int64  \n",
      " 9   sat_avg_math_score_in_2018                          51 non-null     int64  \n",
      " 10  total_avg_score_for_sat_in_2018                     51 non-null     int64  \n",
      "dtypes: float64(6), int64(4), object(1)\n",
      "memory usage: 4.8+ KB\n"
     ]
    }
   ],
   "source": [
    "act_sat_merge = pd.merge(act, sat, how='left')\n",
    "act_sat_merge.info()"
   ]
  },
  {
   "cell_type": "code",
   "execution_count": 31,
   "metadata": {},
   "outputs": [],
   "source": [
    "act_sat_merge.to_csv('../data/combined_2018.csv', index=False)"
   ]
  }
 ],
 "metadata": {
  "anaconda-cloud": {},
  "kernelspec": {
   "display_name": "Python 3",
   "language": "python",
   "name": "python3"
  },
  "language_info": {
   "codemirror_mode": {
    "name": "ipython",
    "version": 3
   },
   "file_extension": ".py",
   "mimetype": "text/x-python",
   "name": "python",
   "nbconvert_exporter": "python",
   "pygments_lexer": "ipython3",
   "version": "3.7.6"
  }
 },
 "nbformat": 4,
 "nbformat_minor": 2
}
