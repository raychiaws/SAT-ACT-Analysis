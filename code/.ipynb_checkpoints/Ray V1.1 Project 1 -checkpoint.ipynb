{
 "cells": [
  {
   "cell_type": "markdown",
   "metadata": {},
   "source": [
    "# Project 1: SAT & ACT Analysis"
   ]
  },
  {
   "cell_type": "markdown",
   "metadata": {},
   "source": [
    "### Load libraries"
   ]
  },
  {
   "cell_type": "code",
   "execution_count": 137,
   "metadata": {},
   "outputs": [],
   "source": [
    "import numpy as np\n",
    "import pandas as pd\n",
    "import matplotlib.pyplot as plt"
   ]
  },
  {
   "cell_type": "markdown",
   "metadata": {},
   "source": [
    "## 2017 Data Import and Cleaning"
   ]
  },
  {
   "cell_type": "markdown",
   "metadata": {},
   "source": [
    "####  Read In SAT & ACT  Data"
   ]
  },
  {
   "cell_type": "code",
   "execution_count": 138,
   "metadata": {},
   "outputs": [],
   "source": [
    "act = pd.read_csv('../data/act_2017.csv')\n",
    "sat = pd.read_csv('../data/sat_2017.csv')"
   ]
  },
  {
   "cell_type": "markdown",
   "metadata": {},
   "source": [
    "#### Display Data"
   ]
  },
  {
   "cell_type": "code",
   "execution_count": 139,
   "metadata": {},
   "outputs": [
    {
     "data": {
      "text/html": [
       "<div>\n",
       "<style scoped>\n",
       "    .dataframe tbody tr th:only-of-type {\n",
       "        vertical-align: middle;\n",
       "    }\n",
       "\n",
       "    .dataframe tbody tr th {\n",
       "        vertical-align: top;\n",
       "    }\n",
       "\n",
       "    .dataframe thead th {\n",
       "        text-align: right;\n",
       "    }\n",
       "</style>\n",
       "<table border=\"1\" class=\"dataframe\">\n",
       "  <thead>\n",
       "    <tr style=\"text-align: right;\">\n",
       "      <th></th>\n",
       "      <th>State</th>\n",
       "      <th>Participation</th>\n",
       "      <th>English</th>\n",
       "      <th>Math</th>\n",
       "      <th>Reading</th>\n",
       "      <th>Science</th>\n",
       "      <th>Composite</th>\n",
       "    </tr>\n",
       "  </thead>\n",
       "  <tbody>\n",
       "    <tr>\n",
       "      <th>0</th>\n",
       "      <td>National</td>\n",
       "      <td>60%</td>\n",
       "      <td>20.3</td>\n",
       "      <td>20.7</td>\n",
       "      <td>21.4</td>\n",
       "      <td>21.0</td>\n",
       "      <td>21.0</td>\n",
       "    </tr>\n",
       "    <tr>\n",
       "      <th>1</th>\n",
       "      <td>Alabama</td>\n",
       "      <td>100%</td>\n",
       "      <td>18.9</td>\n",
       "      <td>18.4</td>\n",
       "      <td>19.7</td>\n",
       "      <td>19.4</td>\n",
       "      <td>19.2</td>\n",
       "    </tr>\n",
       "    <tr>\n",
       "      <th>2</th>\n",
       "      <td>Alaska</td>\n",
       "      <td>65%</td>\n",
       "      <td>18.7</td>\n",
       "      <td>19.8</td>\n",
       "      <td>20.4</td>\n",
       "      <td>19.9</td>\n",
       "      <td>19.8</td>\n",
       "    </tr>\n",
       "    <tr>\n",
       "      <th>3</th>\n",
       "      <td>Arizona</td>\n",
       "      <td>62%</td>\n",
       "      <td>18.6</td>\n",
       "      <td>19.8</td>\n",
       "      <td>20.1</td>\n",
       "      <td>19.8</td>\n",
       "      <td>19.7</td>\n",
       "    </tr>\n",
       "    <tr>\n",
       "      <th>4</th>\n",
       "      <td>Arkansas</td>\n",
       "      <td>100%</td>\n",
       "      <td>18.9</td>\n",
       "      <td>19.0</td>\n",
       "      <td>19.7</td>\n",
       "      <td>19.5</td>\n",
       "      <td>19.4</td>\n",
       "    </tr>\n",
       "    <tr>\n",
       "      <th>5</th>\n",
       "      <td>California</td>\n",
       "      <td>31%</td>\n",
       "      <td>22.5</td>\n",
       "      <td>22.7</td>\n",
       "      <td>23.1</td>\n",
       "      <td>22.2</td>\n",
       "      <td>22.8</td>\n",
       "    </tr>\n",
       "    <tr>\n",
       "      <th>6</th>\n",
       "      <td>Colorado</td>\n",
       "      <td>100%</td>\n",
       "      <td>20.1</td>\n",
       "      <td>20.3</td>\n",
       "      <td>21.2</td>\n",
       "      <td>20.9</td>\n",
       "      <td>20.8</td>\n",
       "    </tr>\n",
       "    <tr>\n",
       "      <th>7</th>\n",
       "      <td>Connecticut</td>\n",
       "      <td>31%</td>\n",
       "      <td>25.5</td>\n",
       "      <td>24.6</td>\n",
       "      <td>25.6</td>\n",
       "      <td>24.6</td>\n",
       "      <td>25.2</td>\n",
       "    </tr>\n",
       "    <tr>\n",
       "      <th>8</th>\n",
       "      <td>Delaware</td>\n",
       "      <td>18%</td>\n",
       "      <td>24.1</td>\n",
       "      <td>23.4</td>\n",
       "      <td>24.8</td>\n",
       "      <td>23.6</td>\n",
       "      <td>24.1</td>\n",
       "    </tr>\n",
       "    <tr>\n",
       "      <th>9</th>\n",
       "      <td>District of Columbia</td>\n",
       "      <td>32%</td>\n",
       "      <td>24.4</td>\n",
       "      <td>23.5</td>\n",
       "      <td>24.9</td>\n",
       "      <td>23.5</td>\n",
       "      <td>24.2</td>\n",
       "    </tr>\n",
       "  </tbody>\n",
       "</table>\n",
       "</div>"
      ],
      "text/plain": [
       "                  State Participation  English  Math  Reading  Science  \\\n",
       "0              National           60%     20.3  20.7     21.4     21.0   \n",
       "1               Alabama          100%     18.9  18.4     19.7     19.4   \n",
       "2                Alaska           65%     18.7  19.8     20.4     19.9   \n",
       "3               Arizona           62%     18.6  19.8     20.1     19.8   \n",
       "4              Arkansas          100%     18.9  19.0     19.7     19.5   \n",
       "5            California           31%     22.5  22.7     23.1     22.2   \n",
       "6              Colorado          100%     20.1  20.3     21.2     20.9   \n",
       "7           Connecticut           31%     25.5  24.6     25.6     24.6   \n",
       "8              Delaware           18%     24.1  23.4     24.8     23.6   \n",
       "9  District of Columbia           32%     24.4  23.5     24.9     23.5   \n",
       "\n",
       "  Composite  \n",
       "0      21.0  \n",
       "1      19.2  \n",
       "2      19.8  \n",
       "3      19.7  \n",
       "4      19.4  \n",
       "5      22.8  \n",
       "6      20.8  \n",
       "7      25.2  \n",
       "8      24.1  \n",
       "9      24.2  "
      ]
     },
     "execution_count": 139,
     "metadata": {},
     "output_type": "execute_result"
    }
   ],
   "source": [
    "act.head(10)"
   ]
  },
  {
   "cell_type": "code",
   "execution_count": 140,
   "metadata": {},
   "outputs": [
    {
     "data": {
      "text/html": [
       "<div>\n",
       "<style scoped>\n",
       "    .dataframe tbody tr th:only-of-type {\n",
       "        vertical-align: middle;\n",
       "    }\n",
       "\n",
       "    .dataframe tbody tr th {\n",
       "        vertical-align: top;\n",
       "    }\n",
       "\n",
       "    .dataframe thead th {\n",
       "        text-align: right;\n",
       "    }\n",
       "</style>\n",
       "<table border=\"1\" class=\"dataframe\">\n",
       "  <thead>\n",
       "    <tr style=\"text-align: right;\">\n",
       "      <th></th>\n",
       "      <th>State</th>\n",
       "      <th>Participation</th>\n",
       "      <th>Evidence-Based Reading and Writing</th>\n",
       "      <th>Math</th>\n",
       "      <th>Total</th>\n",
       "    </tr>\n",
       "  </thead>\n",
       "  <tbody>\n",
       "    <tr>\n",
       "      <th>0</th>\n",
       "      <td>Alabama</td>\n",
       "      <td>5%</td>\n",
       "      <td>593</td>\n",
       "      <td>572</td>\n",
       "      <td>1165</td>\n",
       "    </tr>\n",
       "    <tr>\n",
       "      <th>1</th>\n",
       "      <td>Alaska</td>\n",
       "      <td>38%</td>\n",
       "      <td>547</td>\n",
       "      <td>533</td>\n",
       "      <td>1080</td>\n",
       "    </tr>\n",
       "    <tr>\n",
       "      <th>2</th>\n",
       "      <td>Arizona</td>\n",
       "      <td>30%</td>\n",
       "      <td>563</td>\n",
       "      <td>553</td>\n",
       "      <td>1116</td>\n",
       "    </tr>\n",
       "    <tr>\n",
       "      <th>3</th>\n",
       "      <td>Arkansas</td>\n",
       "      <td>3%</td>\n",
       "      <td>614</td>\n",
       "      <td>594</td>\n",
       "      <td>1208</td>\n",
       "    </tr>\n",
       "    <tr>\n",
       "      <th>4</th>\n",
       "      <td>California</td>\n",
       "      <td>53%</td>\n",
       "      <td>531</td>\n",
       "      <td>524</td>\n",
       "      <td>1055</td>\n",
       "    </tr>\n",
       "    <tr>\n",
       "      <th>5</th>\n",
       "      <td>Colorado</td>\n",
       "      <td>11%</td>\n",
       "      <td>606</td>\n",
       "      <td>595</td>\n",
       "      <td>1201</td>\n",
       "    </tr>\n",
       "    <tr>\n",
       "      <th>6</th>\n",
       "      <td>Connecticut</td>\n",
       "      <td>100%</td>\n",
       "      <td>530</td>\n",
       "      <td>512</td>\n",
       "      <td>1041</td>\n",
       "    </tr>\n",
       "    <tr>\n",
       "      <th>7</th>\n",
       "      <td>Delaware</td>\n",
       "      <td>100%</td>\n",
       "      <td>503</td>\n",
       "      <td>492</td>\n",
       "      <td>996</td>\n",
       "    </tr>\n",
       "    <tr>\n",
       "      <th>8</th>\n",
       "      <td>District of Columbia</td>\n",
       "      <td>100%</td>\n",
       "      <td>482</td>\n",
       "      <td>468</td>\n",
       "      <td>950</td>\n",
       "    </tr>\n",
       "    <tr>\n",
       "      <th>9</th>\n",
       "      <td>Florida</td>\n",
       "      <td>83%</td>\n",
       "      <td>520</td>\n",
       "      <td>497</td>\n",
       "      <td>1017</td>\n",
       "    </tr>\n",
       "  </tbody>\n",
       "</table>\n",
       "</div>"
      ],
      "text/plain": [
       "                  State Participation  Evidence-Based Reading and Writing  \\\n",
       "0               Alabama            5%                                 593   \n",
       "1                Alaska           38%                                 547   \n",
       "2               Arizona           30%                                 563   \n",
       "3              Arkansas            3%                                 614   \n",
       "4            California           53%                                 531   \n",
       "5              Colorado           11%                                 606   \n",
       "6           Connecticut          100%                                 530   \n",
       "7              Delaware          100%                                 503   \n",
       "8  District of Columbia          100%                                 482   \n",
       "9               Florida           83%                                 520   \n",
       "\n",
       "   Math  Total  \n",
       "0   572   1165  \n",
       "1   533   1080  \n",
       "2   553   1116  \n",
       "3   594   1208  \n",
       "4   524   1055  \n",
       "5   595   1201  \n",
       "6   512   1041  \n",
       "7   492    996  \n",
       "8   468    950  \n",
       "9   497   1017  "
      ]
     },
     "execution_count": 140,
     "metadata": {},
     "output_type": "execute_result"
    }
   ],
   "source": [
    "sat.head(10)"
   ]
  },
  {
   "cell_type": "markdown",
   "metadata": {},
   "source": [
    "#### Describe Data"
   ]
  },
  {
   "cell_type": "code",
   "execution_count": 141,
   "metadata": {},
   "outputs": [
    {
     "data": {
      "text/html": [
       "<div>\n",
       "<style scoped>\n",
       "    .dataframe tbody tr th:only-of-type {\n",
       "        vertical-align: middle;\n",
       "    }\n",
       "\n",
       "    .dataframe tbody tr th {\n",
       "        vertical-align: top;\n",
       "    }\n",
       "\n",
       "    .dataframe thead th {\n",
       "        text-align: right;\n",
       "    }\n",
       "</style>\n",
       "<table border=\"1\" class=\"dataframe\">\n",
       "  <thead>\n",
       "    <tr style=\"text-align: right;\">\n",
       "      <th></th>\n",
       "      <th>Evidence-Based Reading and Writing</th>\n",
       "      <th>Math</th>\n",
       "      <th>Total</th>\n",
       "    </tr>\n",
       "  </thead>\n",
       "  <tbody>\n",
       "    <tr>\n",
       "      <th>count</th>\n",
       "      <td>51.000000</td>\n",
       "      <td>51.000000</td>\n",
       "      <td>51.000000</td>\n",
       "    </tr>\n",
       "    <tr>\n",
       "      <th>mean</th>\n",
       "      <td>569.117647</td>\n",
       "      <td>547.627451</td>\n",
       "      <td>1126.098039</td>\n",
       "    </tr>\n",
       "    <tr>\n",
       "      <th>std</th>\n",
       "      <td>45.666901</td>\n",
       "      <td>84.909119</td>\n",
       "      <td>92.494812</td>\n",
       "    </tr>\n",
       "    <tr>\n",
       "      <th>min</th>\n",
       "      <td>482.000000</td>\n",
       "      <td>52.000000</td>\n",
       "      <td>950.000000</td>\n",
       "    </tr>\n",
       "    <tr>\n",
       "      <th>25%</th>\n",
       "      <td>533.500000</td>\n",
       "      <td>522.000000</td>\n",
       "      <td>1055.500000</td>\n",
       "    </tr>\n",
       "    <tr>\n",
       "      <th>50%</th>\n",
       "      <td>559.000000</td>\n",
       "      <td>548.000000</td>\n",
       "      <td>1107.000000</td>\n",
       "    </tr>\n",
       "    <tr>\n",
       "      <th>75%</th>\n",
       "      <td>613.000000</td>\n",
       "      <td>599.000000</td>\n",
       "      <td>1212.000000</td>\n",
       "    </tr>\n",
       "    <tr>\n",
       "      <th>max</th>\n",
       "      <td>644.000000</td>\n",
       "      <td>651.000000</td>\n",
       "      <td>1295.000000</td>\n",
       "    </tr>\n",
       "  </tbody>\n",
       "</table>\n",
       "</div>"
      ],
      "text/plain": [
       "       Evidence-Based Reading and Writing        Math        Total\n",
       "count                           51.000000   51.000000    51.000000\n",
       "mean                           569.117647  547.627451  1126.098039\n",
       "std                             45.666901   84.909119    92.494812\n",
       "min                            482.000000   52.000000   950.000000\n",
       "25%                            533.500000  522.000000  1055.500000\n",
       "50%                            559.000000  548.000000  1107.000000\n",
       "75%                            613.000000  599.000000  1212.000000\n",
       "max                            644.000000  651.000000  1295.000000"
      ]
     },
     "execution_count": 141,
     "metadata": {},
     "output_type": "execute_result"
    }
   ],
   "source": [
    "sat.describe()"
   ]
  },
  {
   "cell_type": "markdown",
   "metadata": {},
   "source": [
    "<span style=\"color: blue\">**Comment:**</span>\n",
    "In sat_2017, there might be a error entry of 1 of the data (under math) because the mininmum is too low of a value compared to the mean.\n",
    "<hr>"
   ]
  },
  {
   "cell_type": "code",
   "execution_count": 142,
   "metadata": {},
   "outputs": [
    {
     "data": {
      "text/html": [
       "<div>\n",
       "<style scoped>\n",
       "    .dataframe tbody tr th:only-of-type {\n",
       "        vertical-align: middle;\n",
       "    }\n",
       "\n",
       "    .dataframe tbody tr th {\n",
       "        vertical-align: top;\n",
       "    }\n",
       "\n",
       "    .dataframe thead th {\n",
       "        text-align: right;\n",
       "    }\n",
       "</style>\n",
       "<table border=\"1\" class=\"dataframe\">\n",
       "  <thead>\n",
       "    <tr style=\"text-align: right;\">\n",
       "      <th></th>\n",
       "      <th>English</th>\n",
       "      <th>Math</th>\n",
       "      <th>Reading</th>\n",
       "      <th>Science</th>\n",
       "    </tr>\n",
       "  </thead>\n",
       "  <tbody>\n",
       "    <tr>\n",
       "      <th>count</th>\n",
       "      <td>52.000000</td>\n",
       "      <td>52.000000</td>\n",
       "      <td>52.000000</td>\n",
       "      <td>52.000000</td>\n",
       "    </tr>\n",
       "    <tr>\n",
       "      <th>mean</th>\n",
       "      <td>20.919231</td>\n",
       "      <td>21.173077</td>\n",
       "      <td>22.001923</td>\n",
       "      <td>21.040385</td>\n",
       "    </tr>\n",
       "    <tr>\n",
       "      <th>std</th>\n",
       "      <td>2.332132</td>\n",
       "      <td>1.963602</td>\n",
       "      <td>2.048672</td>\n",
       "      <td>3.151113</td>\n",
       "    </tr>\n",
       "    <tr>\n",
       "      <th>min</th>\n",
       "      <td>16.300000</td>\n",
       "      <td>18.000000</td>\n",
       "      <td>18.100000</td>\n",
       "      <td>2.300000</td>\n",
       "    </tr>\n",
       "    <tr>\n",
       "      <th>25%</th>\n",
       "      <td>19.000000</td>\n",
       "      <td>19.400000</td>\n",
       "      <td>20.475000</td>\n",
       "      <td>19.900000</td>\n",
       "    </tr>\n",
       "    <tr>\n",
       "      <th>50%</th>\n",
       "      <td>20.550000</td>\n",
       "      <td>20.900000</td>\n",
       "      <td>21.700000</td>\n",
       "      <td>21.150000</td>\n",
       "    </tr>\n",
       "    <tr>\n",
       "      <th>75%</th>\n",
       "      <td>23.300000</td>\n",
       "      <td>23.100000</td>\n",
       "      <td>24.125000</td>\n",
       "      <td>22.525000</td>\n",
       "    </tr>\n",
       "    <tr>\n",
       "      <th>max</th>\n",
       "      <td>25.500000</td>\n",
       "      <td>25.300000</td>\n",
       "      <td>26.000000</td>\n",
       "      <td>24.900000</td>\n",
       "    </tr>\n",
       "  </tbody>\n",
       "</table>\n",
       "</div>"
      ],
      "text/plain": [
       "         English       Math    Reading    Science\n",
       "count  52.000000  52.000000  52.000000  52.000000\n",
       "mean   20.919231  21.173077  22.001923  21.040385\n",
       "std     2.332132   1.963602   2.048672   3.151113\n",
       "min    16.300000  18.000000  18.100000   2.300000\n",
       "25%    19.000000  19.400000  20.475000  19.900000\n",
       "50%    20.550000  20.900000  21.700000  21.150000\n",
       "75%    23.300000  23.100000  24.125000  22.525000\n",
       "max    25.500000  25.300000  26.000000  24.900000"
      ]
     },
     "execution_count": 142,
     "metadata": {},
     "output_type": "execute_result"
    }
   ],
   "source": [
    "act.describe()"
   ]
  },
  {
   "cell_type": "markdown",
   "metadata": {},
   "source": [
    "<span style=\"color: blue\">**Comment:**</span> In act_2017, there is a missing column when we use describe, due to one/more of the entries is not the same data type as other entries under composite column.\n",
    "<hr>"
   ]
  },
  {
   "cell_type": "markdown",
   "metadata": {},
   "source": [
    "#### Does the data look complete? "
   ]
  },
  {
   "cell_type": "code",
   "execution_count": 143,
   "metadata": {},
   "outputs": [
    {
     "data": {
      "text/plain": [
       "State                                 0\n",
       "Participation                         0\n",
       "Evidence-Based Reading and Writing    0\n",
       "Math                                  0\n",
       "Total                                 0\n",
       "dtype: int64"
      ]
     },
     "execution_count": 143,
     "metadata": {},
     "output_type": "execute_result"
    }
   ],
   "source": [
    "sat.isnull().sum()"
   ]
  },
  {
   "cell_type": "code",
   "execution_count": 144,
   "metadata": {},
   "outputs": [
    {
     "data": {
      "text/plain": [
       "State            0\n",
       "Participation    0\n",
       "English          0\n",
       "Math             0\n",
       "Reading          0\n",
       "Science          0\n",
       "Composite        0\n",
       "dtype: int64"
      ]
     },
     "execution_count": 144,
     "metadata": {},
     "output_type": "execute_result"
    }
   ],
   "source": [
    "act.isnull().sum()"
   ]
  },
  {
   "cell_type": "markdown",
   "metadata": {},
   "source": [
    "<span style=\"color: blue\">**Answer:**</span> Yes, it seems complete. But however, under ACT data, there is something wrong in composite column therefore when we use the describe function, it is not showing the count, mean, std etc.\n",
    "<hr>"
   ]
  },
  {
   "cell_type": "markdown",
   "metadata": {},
   "source": [
    "####  Are there any obvious issues with the observations?\n",
    "\n",
    "**What is the minimum *possible* value for each test/subtest? What is the maximum *possible* value?**\n",
    "\n",
    "Consider comparing any questionable values to the sources of your data:\n",
    "- [SAT](https://blog.collegevine.com/here-are-the-average-sat-scores-by-state/)\n",
    "- [ACT](https://blog.prepscholar.com/act-scores-by-state-averages-highs-and-lows)"
   ]
  },
  {
   "cell_type": "markdown",
   "metadata": {},
   "source": [
    "<span style=\"color: blue\">**Aswer:**</span>\n",
    "\n",
    "\n",
    "**For Math:**\n",
    "- SAT: Min value:52, Max Value:621\n",
    "- ACT: Min value:18, Max Value:23.1\n",
    "\n",
    "**For Science:**\n",
    "- ACT: Min value: 2.3, Max Value: 24.9\n",
    "\n",
    "**For Reading:**\n",
    "- ACT: Min value: 18.0, Max Value: 26.0\n",
    "\n",
    "**For English:**\n",
    "- ACT: Min value: 16.3, Max Value: 25.5\n",
    "\n",
    "**For Evidence-Based Reading and Writing:**\n",
    "- SAT: Min Value: 482, Max Value:644\n",
    "\n",
    "<span style=\"color: blue\">**Comment:**</span> \n",
    "\n",
    "For Math, there might be an error data entry for SAT as the min value is too small as compared to max value.\n",
    "\n",
    "For Science, there might be be an error data entry for SAT as the min value is too small as compared to max value.\n",
    "<hr>"
   ]
  },
  {
   "cell_type": "markdown",
   "metadata": {},
   "source": [
    "#### Fix any errors you identified\n",
    "\n",
    "**The data is available** so there's no need to guess or calculate anything. If you didn't find any errors, continue to the next step."
   ]
  },
  {
   "cell_type": "code",
   "execution_count": 145,
   "metadata": {},
   "outputs": [
    {
     "data": {
      "text/html": [
       "<div>\n",
       "<style scoped>\n",
       "    .dataframe tbody tr th:only-of-type {\n",
       "        vertical-align: middle;\n",
       "    }\n",
       "\n",
       "    .dataframe tbody tr th {\n",
       "        vertical-align: top;\n",
       "    }\n",
       "\n",
       "    .dataframe thead th {\n",
       "        text-align: right;\n",
       "    }\n",
       "</style>\n",
       "<table border=\"1\" class=\"dataframe\">\n",
       "  <thead>\n",
       "    <tr style=\"text-align: right;\">\n",
       "      <th></th>\n",
       "      <th>State</th>\n",
       "      <th>Participation</th>\n",
       "      <th>Evidence-Based Reading and Writing</th>\n",
       "      <th>Math</th>\n",
       "      <th>Total</th>\n",
       "    </tr>\n",
       "  </thead>\n",
       "  <tbody>\n",
       "    <tr>\n",
       "      <th>0</th>\n",
       "      <td>Alabama</td>\n",
       "      <td>5%</td>\n",
       "      <td>593</td>\n",
       "      <td>572</td>\n",
       "      <td>1165</td>\n",
       "    </tr>\n",
       "    <tr>\n",
       "      <th>1</th>\n",
       "      <td>Alaska</td>\n",
       "      <td>38%</td>\n",
       "      <td>547</td>\n",
       "      <td>533</td>\n",
       "      <td>1080</td>\n",
       "    </tr>\n",
       "    <tr>\n",
       "      <th>2</th>\n",
       "      <td>Arizona</td>\n",
       "      <td>30%</td>\n",
       "      <td>563</td>\n",
       "      <td>553</td>\n",
       "      <td>1116</td>\n",
       "    </tr>\n",
       "    <tr>\n",
       "      <th>3</th>\n",
       "      <td>Arkansas</td>\n",
       "      <td>3%</td>\n",
       "      <td>614</td>\n",
       "      <td>594</td>\n",
       "      <td>1208</td>\n",
       "    </tr>\n",
       "    <tr>\n",
       "      <th>4</th>\n",
       "      <td>California</td>\n",
       "      <td>53%</td>\n",
       "      <td>531</td>\n",
       "      <td>524</td>\n",
       "      <td>1055</td>\n",
       "    </tr>\n",
       "  </tbody>\n",
       "</table>\n",
       "</div>"
      ],
      "text/plain": [
       "        State Participation  Evidence-Based Reading and Writing  Math  Total\n",
       "0     Alabama            5%                                 593   572   1165\n",
       "1      Alaska           38%                                 547   533   1080\n",
       "2     Arizona           30%                                 563   553   1116\n",
       "3    Arkansas            3%                                 614   594   1208\n",
       "4  California           53%                                 531   524   1055"
      ]
     },
     "execution_count": 145,
     "metadata": {},
     "output_type": "execute_result"
    }
   ],
   "source": [
    "sat.head()"
   ]
  },
  {
   "cell_type": "code",
   "execution_count": 146,
   "metadata": {},
   "outputs": [
    {
     "data": {
      "text/html": [
       "<div>\n",
       "<style scoped>\n",
       "    .dataframe tbody tr th:only-of-type {\n",
       "        vertical-align: middle;\n",
       "    }\n",
       "\n",
       "    .dataframe tbody tr th {\n",
       "        vertical-align: top;\n",
       "    }\n",
       "\n",
       "    .dataframe thead th {\n",
       "        text-align: right;\n",
       "    }\n",
       "</style>\n",
       "<table border=\"1\" class=\"dataframe\">\n",
       "  <thead>\n",
       "    <tr style=\"text-align: right;\">\n",
       "      <th></th>\n",
       "      <th>State</th>\n",
       "      <th>Participation</th>\n",
       "      <th>English</th>\n",
       "      <th>Math</th>\n",
       "      <th>Reading</th>\n",
       "      <th>Science</th>\n",
       "      <th>Composite</th>\n",
       "    </tr>\n",
       "  </thead>\n",
       "  <tbody>\n",
       "    <tr>\n",
       "      <th>0</th>\n",
       "      <td>National</td>\n",
       "      <td>60%</td>\n",
       "      <td>20.3</td>\n",
       "      <td>20.7</td>\n",
       "      <td>21.4</td>\n",
       "      <td>21.0</td>\n",
       "      <td>21.0</td>\n",
       "    </tr>\n",
       "    <tr>\n",
       "      <th>1</th>\n",
       "      <td>Alabama</td>\n",
       "      <td>100%</td>\n",
       "      <td>18.9</td>\n",
       "      <td>18.4</td>\n",
       "      <td>19.7</td>\n",
       "      <td>19.4</td>\n",
       "      <td>19.2</td>\n",
       "    </tr>\n",
       "    <tr>\n",
       "      <th>2</th>\n",
       "      <td>Alaska</td>\n",
       "      <td>65%</td>\n",
       "      <td>18.7</td>\n",
       "      <td>19.8</td>\n",
       "      <td>20.4</td>\n",
       "      <td>19.9</td>\n",
       "      <td>19.8</td>\n",
       "    </tr>\n",
       "    <tr>\n",
       "      <th>3</th>\n",
       "      <td>Arizona</td>\n",
       "      <td>62%</td>\n",
       "      <td>18.6</td>\n",
       "      <td>19.8</td>\n",
       "      <td>20.1</td>\n",
       "      <td>19.8</td>\n",
       "      <td>19.7</td>\n",
       "    </tr>\n",
       "    <tr>\n",
       "      <th>4</th>\n",
       "      <td>Arkansas</td>\n",
       "      <td>100%</td>\n",
       "      <td>18.9</td>\n",
       "      <td>19.0</td>\n",
       "      <td>19.7</td>\n",
       "      <td>19.5</td>\n",
       "      <td>19.4</td>\n",
       "    </tr>\n",
       "  </tbody>\n",
       "</table>\n",
       "</div>"
      ],
      "text/plain": [
       "      State Participation  English  Math  Reading  Science Composite\n",
       "0  National           60%     20.3  20.7     21.4     21.0      21.0\n",
       "1   Alabama          100%     18.9  18.4     19.7     19.4      19.2\n",
       "2    Alaska           65%     18.7  19.8     20.4     19.9      19.8\n",
       "3   Arizona           62%     18.6  19.8     20.1     19.8      19.7\n",
       "4  Arkansas          100%     18.9  19.0     19.7     19.5      19.4"
      ]
     },
     "execution_count": 146,
     "metadata": {},
     "output_type": "execute_result"
    }
   ],
   "source": [
    "act.head()"
   ]
  },
  {
   "cell_type": "markdown",
   "metadata": {},
   "source": [
    "#### 5. What are your data types? \n",
    "Display the data types of each feature. "
   ]
  },
  {
   "cell_type": "code",
   "execution_count": 147,
   "metadata": {},
   "outputs": [
    {
     "name": "stdout",
     "output_type": "stream",
     "text": [
      "<class 'pandas.core.frame.DataFrame'>\n",
      "RangeIndex: 52 entries, 0 to 51\n",
      "Data columns (total 7 columns):\n",
      " #   Column         Non-Null Count  Dtype  \n",
      "---  ------         --------------  -----  \n",
      " 0   State          52 non-null     object \n",
      " 1   Participation  52 non-null     object \n",
      " 2   English        52 non-null     float64\n",
      " 3   Math           52 non-null     float64\n",
      " 4   Reading        52 non-null     float64\n",
      " 5   Science        52 non-null     float64\n",
      " 6   Composite      52 non-null     object \n",
      "dtypes: float64(4), object(3)\n",
      "memory usage: 3.0+ KB\n"
     ]
    }
   ],
   "source": [
    "act.info()"
   ]
  },
  {
   "cell_type": "code",
   "execution_count": 148,
   "metadata": {},
   "outputs": [
    {
     "name": "stdout",
     "output_type": "stream",
     "text": [
      "<class 'pandas.core.frame.DataFrame'>\n",
      "RangeIndex: 51 entries, 0 to 50\n",
      "Data columns (total 5 columns):\n",
      " #   Column                              Non-Null Count  Dtype \n",
      "---  ------                              --------------  ----- \n",
      " 0   State                               51 non-null     object\n",
      " 1   Participation                       51 non-null     object\n",
      " 2   Evidence-Based Reading and Writing  51 non-null     int64 \n",
      " 3   Math                                51 non-null     int64 \n",
      " 4   Total                               51 non-null     int64 \n",
      "dtypes: int64(3), object(2)\n",
      "memory usage: 2.1+ KB\n"
     ]
    }
   ],
   "source": [
    "sat.info()"
   ]
  },
  {
   "cell_type": "markdown",
   "metadata": {},
   "source": [
    "What did you learn?\n",
    "- Do any of them seem odd?  \n",
    "- Which ones are not as they should be?  "
   ]
  },
  {
   "cell_type": "markdown",
   "metadata": {},
   "source": [
    "<span style=\"color: blue\">**Answer:**</span>\n",
    "\n",
    "For act_2017 dataset, column for composite should be int instead of an object datatype.\n",
    "\n",
    "And for act_2017 and sat_2017, column for participation should be int instead of an object datatype.\n",
    "<hr>"
   ]
  },
  {
   "cell_type": "markdown",
   "metadata": {},
   "source": [
    "#### Fix Incorrect Data Types\n",
    "Based on what you discovered above, use appropriate methods to re-type incorrectly typed data.\n",
    "- Define a function that will allow you to convert participation rates to an appropriate numeric type. Use `map` or `apply` to change these columns in each dataframe."
   ]
  },
  {
   "cell_type": "code",
   "execution_count": 149,
   "metadata": {},
   "outputs": [],
   "source": [
    "#replacing % with a space for participation column\n",
    "\n",
    "def clean_participation(x):\n",
    "    if isinstance(x, str):\n",
    "        return(x.replace('%', '').replace(',', ''))\n",
    "    return(x)"
   ]
  },
  {
   "cell_type": "markdown",
   "metadata": {},
   "source": [
    "- Fix any individual values preventing other columns from being the appropriate type."
   ]
  },
  {
   "cell_type": "code",
   "execution_count": 150,
   "metadata": {},
   "outputs": [],
   "source": [
    "#calling the function \"clean_participation\" and converting datatype to float\n",
    "\n",
    "act['Participation'] = act['Participation'].apply(clean_participation).astype('int')\n",
    "sat['Participation'] = sat['Participation'].apply(clean_participation).astype('int')\n"
   ]
  },
  {
   "cell_type": "code",
   "execution_count": 151,
   "metadata": {},
   "outputs": [
    {
     "name": "stdout",
     "output_type": "stream",
     "text": [
      "<class 'pandas.core.frame.DataFrame'>\n",
      "RangeIndex: 52 entries, 0 to 51\n",
      "Data columns (total 7 columns):\n",
      " #   Column         Non-Null Count  Dtype  \n",
      "---  ------         --------------  -----  \n",
      " 0   State          52 non-null     object \n",
      " 1   Participation  52 non-null     int64  \n",
      " 2   English        52 non-null     float64\n",
      " 3   Math           52 non-null     float64\n",
      " 4   Reading        52 non-null     float64\n",
      " 5   Science        52 non-null     float64\n",
      " 6   Composite      52 non-null     object \n",
      "dtypes: float64(4), int64(1), object(2)\n",
      "memory usage: 3.0+ KB\n"
     ]
    }
   ],
   "source": [
    "act.info()"
   ]
  },
  {
   "cell_type": "markdown",
   "metadata": {},
   "source": [
    "- Finish your data modifications by making sure the columns are now typed appropriately."
   ]
  },
  {
   "cell_type": "code",
   "execution_count": 152,
   "metadata": {},
   "outputs": [
    {
     "name": "stdout",
     "output_type": "stream",
     "text": [
      "<class 'pandas.core.frame.DataFrame'>\n",
      "RangeIndex: 51 entries, 0 to 50\n",
      "Data columns (total 5 columns):\n",
      " #   Column                              Non-Null Count  Dtype \n",
      "---  ------                              --------------  ----- \n",
      " 0   State                               51 non-null     object\n",
      " 1   Participation                       51 non-null     int64 \n",
      " 2   Evidence-Based Reading and Writing  51 non-null     int64 \n",
      " 3   Math                                51 non-null     int64 \n",
      " 4   Total                               51 non-null     int64 \n",
      "dtypes: int64(4), object(1)\n",
      "memory usage: 2.1+ KB\n"
     ]
    }
   ],
   "source": [
    "sat.info()"
   ]
  },
  {
   "cell_type": "code",
   "execution_count": 153,
   "metadata": {},
   "outputs": [],
   "source": [
    "#replacing x with a space for composite column\n",
    "\n",
    "def clean_composite(x):\n",
    "\n",
    "    if isinstance(x, str):\n",
    "        return(x.replace('x', '').replace(',', ''))\n",
    "    return(x)\n",
    "\n",
    "#calling the function \"composite\" and converting datatype to float\n",
    "\n",
    "act['Composite'] = act['Composite'].apply(clean_composite).astype('float')"
   ]
  },
  {
   "cell_type": "markdown",
   "metadata": {},
   "source": [
    "- Display the data types again to confirm they are correct."
   ]
  },
  {
   "cell_type": "code",
   "execution_count": 154,
   "metadata": {},
   "outputs": [
    {
     "name": "stdout",
     "output_type": "stream",
     "text": [
      "<class 'pandas.core.frame.DataFrame'>\n",
      "RangeIndex: 52 entries, 0 to 51\n",
      "Data columns (total 7 columns):\n",
      " #   Column         Non-Null Count  Dtype  \n",
      "---  ------         --------------  -----  \n",
      " 0   State          52 non-null     object \n",
      " 1   Participation  52 non-null     int64  \n",
      " 2   English        52 non-null     float64\n",
      " 3   Math           52 non-null     float64\n",
      " 4   Reading        52 non-null     float64\n",
      " 5   Science        52 non-null     float64\n",
      " 6   Composite      52 non-null     float64\n",
      "dtypes: float64(5), int64(1), object(1)\n",
      "memory usage: 3.0+ KB\n"
     ]
    }
   ],
   "source": [
    "act.info()"
   ]
  },
  {
   "cell_type": "code",
   "execution_count": 155,
   "metadata": {},
   "outputs": [
    {
     "name": "stdout",
     "output_type": "stream",
     "text": [
      "<class 'pandas.core.frame.DataFrame'>\n",
      "RangeIndex: 51 entries, 0 to 50\n",
      "Data columns (total 5 columns):\n",
      " #   Column                              Non-Null Count  Dtype \n",
      "---  ------                              --------------  ----- \n",
      " 0   State                               51 non-null     object\n",
      " 1   Participation                       51 non-null     int64 \n",
      " 2   Evidence-Based Reading and Writing  51 non-null     int64 \n",
      " 3   Math                                51 non-null     int64 \n",
      " 4   Total                               51 non-null     int64 \n",
      "dtypes: int64(4), object(1)\n",
      "memory usage: 2.1+ KB\n"
     ]
    }
   ],
   "source": [
    "sat.info()"
   ]
  },
  {
   "cell_type": "markdown",
   "metadata": {},
   "source": [
    "#### Rename Columns\n",
    "Change the names of the columns to more expressive names so that you can tell the difference the SAT columns and the ACT columns. Your solution should map all column names being changed at once (no repeated singular name-changes). **We will be combining these data with some of the data from 2018, and so you should name columns in an appropriate way**.\n",
    "\n",
    "**Guidelines**:\n",
    "- Column names should be all lowercase (you will thank yourself when you start pushing data to SQL later in the course)\n",
    "- Column names should not contain spaces (underscores will suffice--this allows for using the `df.column_name` method to access columns in addition to `df['column_name']`.\n",
    "- Column names should be unique and informative (the only feature that we actually share between dataframes is the state)."
   ]
  },
  {
   "cell_type": "code",
   "execution_count": 156,
   "metadata": {},
   "outputs": [
    {
     "data": {
      "text/html": [
       "<div>\n",
       "<style scoped>\n",
       "    .dataframe tbody tr th:only-of-type {\n",
       "        vertical-align: middle;\n",
       "    }\n",
       "\n",
       "    .dataframe tbody tr th {\n",
       "        vertical-align: top;\n",
       "    }\n",
       "\n",
       "    .dataframe thead th {\n",
       "        text-align: right;\n",
       "    }\n",
       "</style>\n",
       "<table border=\"1\" class=\"dataframe\">\n",
       "  <thead>\n",
       "    <tr style=\"text-align: right;\">\n",
       "      <th></th>\n",
       "      <th>State</th>\n",
       "      <th>Participation</th>\n",
       "      <th>English</th>\n",
       "      <th>Math</th>\n",
       "      <th>Reading</th>\n",
       "      <th>Science</th>\n",
       "      <th>Composite</th>\n",
       "    </tr>\n",
       "  </thead>\n",
       "  <tbody>\n",
       "    <tr>\n",
       "      <th>0</th>\n",
       "      <td>National</td>\n",
       "      <td>60</td>\n",
       "      <td>20.3</td>\n",
       "      <td>20.7</td>\n",
       "      <td>21.4</td>\n",
       "      <td>21.0</td>\n",
       "      <td>21.0</td>\n",
       "    </tr>\n",
       "    <tr>\n",
       "      <th>1</th>\n",
       "      <td>Alabama</td>\n",
       "      <td>100</td>\n",
       "      <td>18.9</td>\n",
       "      <td>18.4</td>\n",
       "      <td>19.7</td>\n",
       "      <td>19.4</td>\n",
       "      <td>19.2</td>\n",
       "    </tr>\n",
       "    <tr>\n",
       "      <th>2</th>\n",
       "      <td>Alaska</td>\n",
       "      <td>65</td>\n",
       "      <td>18.7</td>\n",
       "      <td>19.8</td>\n",
       "      <td>20.4</td>\n",
       "      <td>19.9</td>\n",
       "      <td>19.8</td>\n",
       "    </tr>\n",
       "    <tr>\n",
       "      <th>3</th>\n",
       "      <td>Arizona</td>\n",
       "      <td>62</td>\n",
       "      <td>18.6</td>\n",
       "      <td>19.8</td>\n",
       "      <td>20.1</td>\n",
       "      <td>19.8</td>\n",
       "      <td>19.7</td>\n",
       "    </tr>\n",
       "    <tr>\n",
       "      <th>4</th>\n",
       "      <td>Arkansas</td>\n",
       "      <td>100</td>\n",
       "      <td>18.9</td>\n",
       "      <td>19.0</td>\n",
       "      <td>19.7</td>\n",
       "      <td>19.5</td>\n",
       "      <td>19.4</td>\n",
       "    </tr>\n",
       "  </tbody>\n",
       "</table>\n",
       "</div>"
      ],
      "text/plain": [
       "      State  Participation  English  Math  Reading  Science  Composite\n",
       "0  National             60     20.3  20.7     21.4     21.0       21.0\n",
       "1   Alabama            100     18.9  18.4     19.7     19.4       19.2\n",
       "2    Alaska             65     18.7  19.8     20.4     19.9       19.8\n",
       "3   Arizona             62     18.6  19.8     20.1     19.8       19.7\n",
       "4  Arkansas            100     18.9  19.0     19.7     19.5       19.4"
      ]
     },
     "execution_count": 156,
     "metadata": {},
     "output_type": "execute_result"
    }
   ],
   "source": [
    "act.head()"
   ]
  },
  {
   "cell_type": "code",
   "execution_count": 157,
   "metadata": {},
   "outputs": [
    {
     "data": {
      "text/html": [
       "<div>\n",
       "<style scoped>\n",
       "    .dataframe tbody tr th:only-of-type {\n",
       "        vertical-align: middle;\n",
       "    }\n",
       "\n",
       "    .dataframe tbody tr th {\n",
       "        vertical-align: top;\n",
       "    }\n",
       "\n",
       "    .dataframe thead th {\n",
       "        text-align: right;\n",
       "    }\n",
       "</style>\n",
       "<table border=\"1\" class=\"dataframe\">\n",
       "  <thead>\n",
       "    <tr style=\"text-align: right;\">\n",
       "      <th></th>\n",
       "      <th>State</th>\n",
       "      <th>Participation</th>\n",
       "      <th>Evidence-Based Reading and Writing</th>\n",
       "      <th>Math</th>\n",
       "      <th>Total</th>\n",
       "    </tr>\n",
       "  </thead>\n",
       "  <tbody>\n",
       "    <tr>\n",
       "      <th>0</th>\n",
       "      <td>Alabama</td>\n",
       "      <td>5</td>\n",
       "      <td>593</td>\n",
       "      <td>572</td>\n",
       "      <td>1165</td>\n",
       "    </tr>\n",
       "    <tr>\n",
       "      <th>1</th>\n",
       "      <td>Alaska</td>\n",
       "      <td>38</td>\n",
       "      <td>547</td>\n",
       "      <td>533</td>\n",
       "      <td>1080</td>\n",
       "    </tr>\n",
       "    <tr>\n",
       "      <th>2</th>\n",
       "      <td>Arizona</td>\n",
       "      <td>30</td>\n",
       "      <td>563</td>\n",
       "      <td>553</td>\n",
       "      <td>1116</td>\n",
       "    </tr>\n",
       "    <tr>\n",
       "      <th>3</th>\n",
       "      <td>Arkansas</td>\n",
       "      <td>3</td>\n",
       "      <td>614</td>\n",
       "      <td>594</td>\n",
       "      <td>1208</td>\n",
       "    </tr>\n",
       "    <tr>\n",
       "      <th>4</th>\n",
       "      <td>California</td>\n",
       "      <td>53</td>\n",
       "      <td>531</td>\n",
       "      <td>524</td>\n",
       "      <td>1055</td>\n",
       "    </tr>\n",
       "    <tr>\n",
       "      <th>5</th>\n",
       "      <td>Colorado</td>\n",
       "      <td>11</td>\n",
       "      <td>606</td>\n",
       "      <td>595</td>\n",
       "      <td>1201</td>\n",
       "    </tr>\n",
       "  </tbody>\n",
       "</table>\n",
       "</div>"
      ],
      "text/plain": [
       "        State  Participation  Evidence-Based Reading and Writing  Math  Total\n",
       "0     Alabama              5                                 593   572   1165\n",
       "1      Alaska             38                                 547   533   1080\n",
       "2     Arizona             30                                 563   553   1116\n",
       "3    Arkansas              3                                 614   594   1208\n",
       "4  California             53                                 531   524   1055\n",
       "5    Colorado             11                                 606   595   1201"
      ]
     },
     "execution_count": 157,
     "metadata": {},
     "output_type": "execute_result"
    }
   ],
   "source": [
    "sat.head(6)"
   ]
  },
  {
   "cell_type": "code",
   "execution_count": 158,
   "metadata": {},
   "outputs": [],
   "source": [
    "sat.rename(columns={\n",
    "    'Evidence-Based Reading and Writing': 'sat_avg_evidence-based_reading_and_writing_in_2017',\n",
    "    'Participation': 'percentage_of_sat_students_tested_in_2017',\n",
    "    'Math': 'sat_avg_math_score_in_2017',\n",
    "    'Total': 'total_avg_score_for_sat_in_2017',\n",
    "    'State': 'state'\n",
    "}, inplace=True)"
   ]
  },
  {
   "cell_type": "code",
   "execution_count": 159,
   "metadata": {},
   "outputs": [
    {
     "data": {
      "text/html": [
       "<div>\n",
       "<style scoped>\n",
       "    .dataframe tbody tr th:only-of-type {\n",
       "        vertical-align: middle;\n",
       "    }\n",
       "\n",
       "    .dataframe tbody tr th {\n",
       "        vertical-align: top;\n",
       "    }\n",
       "\n",
       "    .dataframe thead th {\n",
       "        text-align: right;\n",
       "    }\n",
       "</style>\n",
       "<table border=\"1\" class=\"dataframe\">\n",
       "  <thead>\n",
       "    <tr style=\"text-align: right;\">\n",
       "      <th></th>\n",
       "      <th>state</th>\n",
       "      <th>percentage_of_sat_students_tested_in_2017</th>\n",
       "      <th>sat_avg_evidence-based_reading_and_writing_in_2017</th>\n",
       "      <th>sat_avg_math_score_in_2017</th>\n",
       "      <th>total_avg_score_for_sat_in_2017</th>\n",
       "    </tr>\n",
       "  </thead>\n",
       "  <tbody>\n",
       "    <tr>\n",
       "      <th>0</th>\n",
       "      <td>Alabama</td>\n",
       "      <td>5</td>\n",
       "      <td>593</td>\n",
       "      <td>572</td>\n",
       "      <td>1165</td>\n",
       "    </tr>\n",
       "    <tr>\n",
       "      <th>1</th>\n",
       "      <td>Alaska</td>\n",
       "      <td>38</td>\n",
       "      <td>547</td>\n",
       "      <td>533</td>\n",
       "      <td>1080</td>\n",
       "    </tr>\n",
       "    <tr>\n",
       "      <th>2</th>\n",
       "      <td>Arizona</td>\n",
       "      <td>30</td>\n",
       "      <td>563</td>\n",
       "      <td>553</td>\n",
       "      <td>1116</td>\n",
       "    </tr>\n",
       "    <tr>\n",
       "      <th>3</th>\n",
       "      <td>Arkansas</td>\n",
       "      <td>3</td>\n",
       "      <td>614</td>\n",
       "      <td>594</td>\n",
       "      <td>1208</td>\n",
       "    </tr>\n",
       "    <tr>\n",
       "      <th>4</th>\n",
       "      <td>California</td>\n",
       "      <td>53</td>\n",
       "      <td>531</td>\n",
       "      <td>524</td>\n",
       "      <td>1055</td>\n",
       "    </tr>\n",
       "  </tbody>\n",
       "</table>\n",
       "</div>"
      ],
      "text/plain": [
       "        state  percentage_of_sat_students_tested_in_2017  \\\n",
       "0     Alabama                                          5   \n",
       "1      Alaska                                         38   \n",
       "2     Arizona                                         30   \n",
       "3    Arkansas                                          3   \n",
       "4  California                                         53   \n",
       "\n",
       "   sat_avg_evidence-based_reading_and_writing_in_2017  \\\n",
       "0                                                593    \n",
       "1                                                547    \n",
       "2                                                563    \n",
       "3                                                614    \n",
       "4                                                531    \n",
       "\n",
       "   sat_avg_math_score_in_2017  total_avg_score_for_sat_in_2017  \n",
       "0                         572                             1165  \n",
       "1                         533                             1080  \n",
       "2                         553                             1116  \n",
       "3                         594                             1208  \n",
       "4                         524                             1055  "
      ]
     },
     "execution_count": 159,
     "metadata": {},
     "output_type": "execute_result"
    }
   ],
   "source": [
    "sat.head()"
   ]
  },
  {
   "cell_type": "code",
   "execution_count": 160,
   "metadata": {},
   "outputs": [],
   "source": [
    "act.rename(columns={\n",
    "    'Participation': 'percentage_of_act_students_tested_in_2017',\n",
    "    'Composite': 'act_avg_composite_score_in_2017',\n",
    "    'English': 'act_avg_english_score_in_2017',\n",
    "    'Math': 'act_avg_math_score_in_2017',\n",
    "    'Reading': 'act_avg_reading_score_in_2017',\n",
    "    'Science': 'act_avg_science_score_in_2017',\n",
    "    'State': 'state'\n",
    "}, inplace=True)"
   ]
  },
  {
   "cell_type": "code",
   "execution_count": 161,
   "metadata": {},
   "outputs": [
    {
     "data": {
      "text/html": [
       "<div>\n",
       "<style scoped>\n",
       "    .dataframe tbody tr th:only-of-type {\n",
       "        vertical-align: middle;\n",
       "    }\n",
       "\n",
       "    .dataframe tbody tr th {\n",
       "        vertical-align: top;\n",
       "    }\n",
       "\n",
       "    .dataframe thead th {\n",
       "        text-align: right;\n",
       "    }\n",
       "</style>\n",
       "<table border=\"1\" class=\"dataframe\">\n",
       "  <thead>\n",
       "    <tr style=\"text-align: right;\">\n",
       "      <th></th>\n",
       "      <th>state</th>\n",
       "      <th>percentage_of_act_students_tested_in_2017</th>\n",
       "      <th>act_avg_english_score_in_2017</th>\n",
       "      <th>act_avg_math_score_in_2017</th>\n",
       "      <th>act_avg_reading_score_in_2017</th>\n",
       "      <th>act_avg_science_score_in_2017</th>\n",
       "      <th>act_avg_composite_score_in_2017</th>\n",
       "    </tr>\n",
       "  </thead>\n",
       "  <tbody>\n",
       "    <tr>\n",
       "      <th>0</th>\n",
       "      <td>National</td>\n",
       "      <td>60</td>\n",
       "      <td>20.3</td>\n",
       "      <td>20.7</td>\n",
       "      <td>21.4</td>\n",
       "      <td>21.0</td>\n",
       "      <td>21.0</td>\n",
       "    </tr>\n",
       "    <tr>\n",
       "      <th>1</th>\n",
       "      <td>Alabama</td>\n",
       "      <td>100</td>\n",
       "      <td>18.9</td>\n",
       "      <td>18.4</td>\n",
       "      <td>19.7</td>\n",
       "      <td>19.4</td>\n",
       "      <td>19.2</td>\n",
       "    </tr>\n",
       "    <tr>\n",
       "      <th>2</th>\n",
       "      <td>Alaska</td>\n",
       "      <td>65</td>\n",
       "      <td>18.7</td>\n",
       "      <td>19.8</td>\n",
       "      <td>20.4</td>\n",
       "      <td>19.9</td>\n",
       "      <td>19.8</td>\n",
       "    </tr>\n",
       "    <tr>\n",
       "      <th>3</th>\n",
       "      <td>Arizona</td>\n",
       "      <td>62</td>\n",
       "      <td>18.6</td>\n",
       "      <td>19.8</td>\n",
       "      <td>20.1</td>\n",
       "      <td>19.8</td>\n",
       "      <td>19.7</td>\n",
       "    </tr>\n",
       "    <tr>\n",
       "      <th>4</th>\n",
       "      <td>Arkansas</td>\n",
       "      <td>100</td>\n",
       "      <td>18.9</td>\n",
       "      <td>19.0</td>\n",
       "      <td>19.7</td>\n",
       "      <td>19.5</td>\n",
       "      <td>19.4</td>\n",
       "    </tr>\n",
       "  </tbody>\n",
       "</table>\n",
       "</div>"
      ],
      "text/plain": [
       "      state  percentage_of_act_students_tested_in_2017  \\\n",
       "0  National                                         60   \n",
       "1   Alabama                                        100   \n",
       "2    Alaska                                         65   \n",
       "3   Arizona                                         62   \n",
       "4  Arkansas                                        100   \n",
       "\n",
       "   act_avg_english_score_in_2017  act_avg_math_score_in_2017  \\\n",
       "0                           20.3                        20.7   \n",
       "1                           18.9                        18.4   \n",
       "2                           18.7                        19.8   \n",
       "3                           18.6                        19.8   \n",
       "4                           18.9                        19.0   \n",
       "\n",
       "   act_avg_reading_score_in_2017  act_avg_science_score_in_2017  \\\n",
       "0                           21.4                           21.0   \n",
       "1                           19.7                           19.4   \n",
       "2                           20.4                           19.9   \n",
       "3                           20.1                           19.8   \n",
       "4                           19.7                           19.5   \n",
       "\n",
       "   act_avg_composite_score_in_2017  \n",
       "0                             21.0  \n",
       "1                             19.2  \n",
       "2                             19.8  \n",
       "3                             19.7  \n",
       "4                             19.4  "
      ]
     },
     "execution_count": 161,
     "metadata": {},
     "output_type": "execute_result"
    }
   ],
   "source": [
    "act.head()"
   ]
  },
  {
   "cell_type": "markdown",
   "metadata": {},
   "source": [
    "#### 8. Create a data dictionary\n",
    "\n",
    "Now that we've fixed our data, and given it appropriate names, let's create a [data dictionary](http://library.ucmerced.edu/node/10249). \n",
    "\n",
    "A data dictionary provides a quick overview of features/variables/columns, alongside data types and descriptions. The more descriptive you can be, the more useful this document is.\n",
    "\n",
    "Example of a Fictional Data Dictionary Entry: \n",
    "\n",
    "|Feature|Type|Dataset|Description|\n",
    "|---|---|---|---|\n",
    "|**county_pop**|*integer*|2010 census|The population of the county (units in thousands, where 2.5 represents 2500 people).| \n",
    "|**per_poverty**|*float*|2010 census|The percent of the county over the age of 18 living below the 200% of official US poverty rate (units percent to two decimal places 98.10 means 98.1%)|\n",
    "\n",
    "[Here's a quick link to a short guide for formatting markdown in Jupyter notebooks](https://jupyter-notebook.readthedocs.io/en/stable/examples/Notebook/Working%20With%20Markdown%20Cells.html).\n",
    "\n",
    "Provided is the skeleton for formatting a markdown table, with columns headers that will help you create a data dictionary to quickly summarize your data, as well as some examples. **This would be a great thing to copy and paste into your custom README for this project.**"
   ]
  },
  {
   "cell_type": "markdown",
   "metadata": {},
   "source": [
    "|Feature|Type|Dataset|Description|\n",
    "|---|---|---|---|\n",
    "|state|object|ACT/SAT|location| \n",
    "|percentage_of_act_students_tested_in_201|float|ACT|participation rate for ACT student| \n",
    "|percentage_of_sat_students_tested_in_201|float|SAT|participation rate SAT student|\n",
    "|act_avg_english_score_in_201|float|ACT|average english score| \n",
    "|act_avg_math_score_in_201|float|ACT/SAT|average math score| \n",
    "|act_avg_reading_score_in_201|float|ACT|average reading score| \n",
    "|act_avg_science_score_in_201|float|ACT|average science score| \n",
    "|act_avg_composite_score_in_201|float|ACT|average composite score| \n",
    "|sat_avg_evidence-based_reading_and_writing_in_2017|int|SAT| average evidence based reading and writing score|\n",
    "|sat_avg_math_score_in_2017|int|SAT| average math score|\n",
    "|total_avg_score_for_sat_in_2017|int|SAT|average total score|\n"
   ]
  },
  {
   "cell_type": "markdown",
   "metadata": {},
   "source": [
    "#### 9. Drop unnecessary rows\n",
    "\n",
    "One of our dataframes contains an extra row. Identify and remove this from the dataframe."
   ]
  },
  {
   "cell_type": "code",
   "execution_count": 162,
   "metadata": {},
   "outputs": [],
   "source": [
    "#dropping the row #1 \"national\"\n",
    "\n",
    "act.drop(act.index[0], inplace=True)"
   ]
  },
  {
   "cell_type": "code",
   "execution_count": 163,
   "metadata": {},
   "outputs": [
    {
     "data": {
      "text/html": [
       "<div>\n",
       "<style scoped>\n",
       "    .dataframe tbody tr th:only-of-type {\n",
       "        vertical-align: middle;\n",
       "    }\n",
       "\n",
       "    .dataframe tbody tr th {\n",
       "        vertical-align: top;\n",
       "    }\n",
       "\n",
       "    .dataframe thead th {\n",
       "        text-align: right;\n",
       "    }\n",
       "</style>\n",
       "<table border=\"1\" class=\"dataframe\">\n",
       "  <thead>\n",
       "    <tr style=\"text-align: right;\">\n",
       "      <th></th>\n",
       "      <th>state</th>\n",
       "      <th>percentage_of_act_students_tested_in_2017</th>\n",
       "      <th>act_avg_english_score_in_2017</th>\n",
       "      <th>act_avg_math_score_in_2017</th>\n",
       "      <th>act_avg_reading_score_in_2017</th>\n",
       "      <th>act_avg_science_score_in_2017</th>\n",
       "      <th>act_avg_composite_score_in_2017</th>\n",
       "    </tr>\n",
       "  </thead>\n",
       "  <tbody>\n",
       "    <tr>\n",
       "      <th>1</th>\n",
       "      <td>Alabama</td>\n",
       "      <td>100</td>\n",
       "      <td>18.9</td>\n",
       "      <td>18.4</td>\n",
       "      <td>19.7</td>\n",
       "      <td>19.4</td>\n",
       "      <td>19.2</td>\n",
       "    </tr>\n",
       "    <tr>\n",
       "      <th>2</th>\n",
       "      <td>Alaska</td>\n",
       "      <td>65</td>\n",
       "      <td>18.7</td>\n",
       "      <td>19.8</td>\n",
       "      <td>20.4</td>\n",
       "      <td>19.9</td>\n",
       "      <td>19.8</td>\n",
       "    </tr>\n",
       "    <tr>\n",
       "      <th>3</th>\n",
       "      <td>Arizona</td>\n",
       "      <td>62</td>\n",
       "      <td>18.6</td>\n",
       "      <td>19.8</td>\n",
       "      <td>20.1</td>\n",
       "      <td>19.8</td>\n",
       "      <td>19.7</td>\n",
       "    </tr>\n",
       "    <tr>\n",
       "      <th>4</th>\n",
       "      <td>Arkansas</td>\n",
       "      <td>100</td>\n",
       "      <td>18.9</td>\n",
       "      <td>19.0</td>\n",
       "      <td>19.7</td>\n",
       "      <td>19.5</td>\n",
       "      <td>19.4</td>\n",
       "    </tr>\n",
       "    <tr>\n",
       "      <th>5</th>\n",
       "      <td>California</td>\n",
       "      <td>31</td>\n",
       "      <td>22.5</td>\n",
       "      <td>22.7</td>\n",
       "      <td>23.1</td>\n",
       "      <td>22.2</td>\n",
       "      <td>22.8</td>\n",
       "    </tr>\n",
       "  </tbody>\n",
       "</table>\n",
       "</div>"
      ],
      "text/plain": [
       "        state  percentage_of_act_students_tested_in_2017  \\\n",
       "1     Alabama                                        100   \n",
       "2      Alaska                                         65   \n",
       "3     Arizona                                         62   \n",
       "4    Arkansas                                        100   \n",
       "5  California                                         31   \n",
       "\n",
       "   act_avg_english_score_in_2017  act_avg_math_score_in_2017  \\\n",
       "1                           18.9                        18.4   \n",
       "2                           18.7                        19.8   \n",
       "3                           18.6                        19.8   \n",
       "4                           18.9                        19.0   \n",
       "5                           22.5                        22.7   \n",
       "\n",
       "   act_avg_reading_score_in_2017  act_avg_science_score_in_2017  \\\n",
       "1                           19.7                           19.4   \n",
       "2                           20.4                           19.9   \n",
       "3                           20.1                           19.8   \n",
       "4                           19.7                           19.5   \n",
       "5                           23.1                           22.2   \n",
       "\n",
       "   act_avg_composite_score_in_2017  \n",
       "1                             19.2  \n",
       "2                             19.8  \n",
       "3                             19.7  \n",
       "4                             19.4  \n",
       "5                             22.8  "
      ]
     },
     "execution_count": 163,
     "metadata": {},
     "output_type": "execute_result"
    }
   ],
   "source": [
    "act.head()"
   ]
  },
  {
   "cell_type": "markdown",
   "metadata": {},
   "source": []
  },
  {
   "cell_type": "markdown",
   "metadata": {},
   "source": [
    "#### 10. Merge Dataframes\n",
    "\n",
    "Join the 2017 ACT and SAT dataframes using the state in each dataframe as the key. Assign this to a new variable."
   ]
  },
  {
   "cell_type": "code",
   "execution_count": 164,
   "metadata": {},
   "outputs": [
    {
     "data": {
      "text/html": [
       "<div>\n",
       "<style scoped>\n",
       "    .dataframe tbody tr th:only-of-type {\n",
       "        vertical-align: middle;\n",
       "    }\n",
       "\n",
       "    .dataframe tbody tr th {\n",
       "        vertical-align: top;\n",
       "    }\n",
       "\n",
       "    .dataframe thead th {\n",
       "        text-align: right;\n",
       "    }\n",
       "</style>\n",
       "<table border=\"1\" class=\"dataframe\">\n",
       "  <thead>\n",
       "    <tr style=\"text-align: right;\">\n",
       "      <th></th>\n",
       "      <th>state</th>\n",
       "      <th>percentage_of_act_students_tested_in_2017</th>\n",
       "      <th>act_avg_english_score_in_2017</th>\n",
       "      <th>act_avg_math_score_in_2017</th>\n",
       "      <th>act_avg_reading_score_in_2017</th>\n",
       "      <th>act_avg_science_score_in_2017</th>\n",
       "      <th>act_avg_composite_score_in_2017</th>\n",
       "      <th>percentage_of_sat_students_tested_in_2017</th>\n",
       "      <th>sat_avg_evidence-based_reading_and_writing_in_2017</th>\n",
       "      <th>sat_avg_math_score_in_2017</th>\n",
       "      <th>total_avg_score_for_sat_in_2017</th>\n",
       "    </tr>\n",
       "  </thead>\n",
       "  <tbody>\n",
       "    <tr>\n",
       "      <th>0</th>\n",
       "      <td>Alabama</td>\n",
       "      <td>100</td>\n",
       "      <td>18.9</td>\n",
       "      <td>18.4</td>\n",
       "      <td>19.7</td>\n",
       "      <td>19.4</td>\n",
       "      <td>19.2</td>\n",
       "      <td>5</td>\n",
       "      <td>593</td>\n",
       "      <td>572</td>\n",
       "      <td>1165</td>\n",
       "    </tr>\n",
       "    <tr>\n",
       "      <th>1</th>\n",
       "      <td>Alaska</td>\n",
       "      <td>65</td>\n",
       "      <td>18.7</td>\n",
       "      <td>19.8</td>\n",
       "      <td>20.4</td>\n",
       "      <td>19.9</td>\n",
       "      <td>19.8</td>\n",
       "      <td>38</td>\n",
       "      <td>547</td>\n",
       "      <td>533</td>\n",
       "      <td>1080</td>\n",
       "    </tr>\n",
       "    <tr>\n",
       "      <th>2</th>\n",
       "      <td>Arizona</td>\n",
       "      <td>62</td>\n",
       "      <td>18.6</td>\n",
       "      <td>19.8</td>\n",
       "      <td>20.1</td>\n",
       "      <td>19.8</td>\n",
       "      <td>19.7</td>\n",
       "      <td>30</td>\n",
       "      <td>563</td>\n",
       "      <td>553</td>\n",
       "      <td>1116</td>\n",
       "    </tr>\n",
       "    <tr>\n",
       "      <th>3</th>\n",
       "      <td>Arkansas</td>\n",
       "      <td>100</td>\n",
       "      <td>18.9</td>\n",
       "      <td>19.0</td>\n",
       "      <td>19.7</td>\n",
       "      <td>19.5</td>\n",
       "      <td>19.4</td>\n",
       "      <td>3</td>\n",
       "      <td>614</td>\n",
       "      <td>594</td>\n",
       "      <td>1208</td>\n",
       "    </tr>\n",
       "    <tr>\n",
       "      <th>4</th>\n",
       "      <td>California</td>\n",
       "      <td>31</td>\n",
       "      <td>22.5</td>\n",
       "      <td>22.7</td>\n",
       "      <td>23.1</td>\n",
       "      <td>22.2</td>\n",
       "      <td>22.8</td>\n",
       "      <td>53</td>\n",
       "      <td>531</td>\n",
       "      <td>524</td>\n",
       "      <td>1055</td>\n",
       "    </tr>\n",
       "  </tbody>\n",
       "</table>\n",
       "</div>"
      ],
      "text/plain": [
       "        state  percentage_of_act_students_tested_in_2017  \\\n",
       "0     Alabama                                        100   \n",
       "1      Alaska                                         65   \n",
       "2     Arizona                                         62   \n",
       "3    Arkansas                                        100   \n",
       "4  California                                         31   \n",
       "\n",
       "   act_avg_english_score_in_2017  act_avg_math_score_in_2017  \\\n",
       "0                           18.9                        18.4   \n",
       "1                           18.7                        19.8   \n",
       "2                           18.6                        19.8   \n",
       "3                           18.9                        19.0   \n",
       "4                           22.5                        22.7   \n",
       "\n",
       "   act_avg_reading_score_in_2017  act_avg_science_score_in_2017  \\\n",
       "0                           19.7                           19.4   \n",
       "1                           20.4                           19.9   \n",
       "2                           20.1                           19.8   \n",
       "3                           19.7                           19.5   \n",
       "4                           23.1                           22.2   \n",
       "\n",
       "   act_avg_composite_score_in_2017  percentage_of_sat_students_tested_in_2017  \\\n",
       "0                             19.2                                          5   \n",
       "1                             19.8                                         38   \n",
       "2                             19.7                                         30   \n",
       "3                             19.4                                          3   \n",
       "4                             22.8                                         53   \n",
       "\n",
       "   sat_avg_evidence-based_reading_and_writing_in_2017  \\\n",
       "0                                                593    \n",
       "1                                                547    \n",
       "2                                                563    \n",
       "3                                                614    \n",
       "4                                                531    \n",
       "\n",
       "   sat_avg_math_score_in_2017  total_avg_score_for_sat_in_2017  \n",
       "0                         572                             1165  \n",
       "1                         533                             1080  \n",
       "2                         553                             1116  \n",
       "3                         594                             1208  \n",
       "4                         524                             1055  "
      ]
     },
     "execution_count": 164,
     "metadata": {},
     "output_type": "execute_result"
    }
   ],
   "source": [
    "act_sat_merge = pd.merge(act, sat, how='left')\n",
    "act_sat_merge.head()"
   ]
  },
  {
   "cell_type": "markdown",
   "metadata": {},
   "source": []
  },
  {
   "cell_type": "markdown",
   "metadata": {},
   "source": [
    "#### 11. Save your cleaned, merged dataframe\n",
    "\n",
    "Use a relative path to save out your data as `combined_2017.csv`."
   ]
  },
  {
   "cell_type": "code",
   "execution_count": 165,
   "metadata": {},
   "outputs": [],
   "source": [
    "act_sat_merge.to_csv('../data/combined_2017.csv', index=False)"
   ]
  },
  {
   "cell_type": "markdown",
   "metadata": {},
   "source": [
    "## 2018 Data Import and Cleaning"
   ]
  },
  {
   "cell_type": "markdown",
   "metadata": {},
   "source": [
    "Links to the 2018 ACT and SAT data are provided in the README. These data live in PDFs, and so you'll get to enjoy practicing some *manual* data collection. Save these data as a CSV in your `data` directory, and import, explore, and clean these data in the same way you did above. **Make sure you comment on your steps so it is clear *why* you are doing each process**."
   ]
  },
  {
   "cell_type": "markdown",
   "metadata": {},
   "source": [
    "Please refer to file name: Ray Dataset 2018 V1.1"
   ]
  },
  {
   "cell_type": "markdown",
   "metadata": {},
   "source": [
    "#### Combine your 2017 and 2018 data into a single dataframe\n",
    "Joining on state names should work, assuming you formatted all your state names identically. Make sure none of your columns (other than state) have identical names. Do yourself a favor and decide if you're encoding participation rates as floats or integers and standardize this across your datasets.\n",
    "\n",
    "Save the contents of this merged dataframe as `final.csv`.\n",
    "\n",
    "**Use this combined dataframe for the remainder of the project**."
   ]
  },
  {
   "cell_type": "code",
   "execution_count": 166,
   "metadata": {},
   "outputs": [],
   "source": [
    "data_2017 = pd.read_csv('../data/combined_2017.csv')\n",
    "data_2018 = pd.read_csv('../data/combined_2018.csv')\n",
    "\n",
    "data_merge = pd.merge(data_2017, data_2018, how='left')\n",
    "data_merge.to_csv('../data/final.csv', index=False)"
   ]
  },
  {
   "cell_type": "markdown",
   "metadata": {},
   "source": [
    "## Exploratory Data Analysis\n",
    "\n",
    "\n",
    "### Summary Statistics\n",
    "Transpose the output of pandas `describe` method to create a quick overview of each numeric feature."
   ]
  },
  {
   "cell_type": "code",
   "execution_count": 167,
   "metadata": {},
   "outputs": [
    {
     "data": {
      "text/html": [
       "<div>\n",
       "<style scoped>\n",
       "    .dataframe tbody tr th:only-of-type {\n",
       "        vertical-align: middle;\n",
       "    }\n",
       "\n",
       "    .dataframe tbody tr th {\n",
       "        vertical-align: top;\n",
       "    }\n",
       "\n",
       "    .dataframe thead th {\n",
       "        text-align: right;\n",
       "    }\n",
       "</style>\n",
       "<table border=\"1\" class=\"dataframe\">\n",
       "  <thead>\n",
       "    <tr style=\"text-align: right;\">\n",
       "      <th></th>\n",
       "      <th>percentage_of_act_students_tested_in_2017</th>\n",
       "      <th>act_avg_english_score_in_2017</th>\n",
       "      <th>act_avg_math_score_in_2017</th>\n",
       "      <th>act_avg_reading_score_in_2017</th>\n",
       "      <th>act_avg_science_score_in_2017</th>\n",
       "      <th>act_avg_composite_score_in_2017</th>\n",
       "      <th>percentage_of_sat_students_tested_in_2017</th>\n",
       "      <th>sat_avg_evidence-based_reading_and_writing_in_2017</th>\n",
       "      <th>sat_avg_math_score_in_2017</th>\n",
       "      <th>total_avg_score_for_sat_in_2017</th>\n",
       "      <th>percentage_of_act_students_tested_in_2018</th>\n",
       "      <th>act_average_composite_score_in_2018</th>\n",
       "      <th>act_average_english_score_in_2018</th>\n",
       "      <th>act_average_math_score_in_2018</th>\n",
       "      <th>act_average_reading_score_in_2018</th>\n",
       "      <th>act_average_science_score_in_2018</th>\n",
       "      <th>percentage_of_sat_students_tested_in_2018</th>\n",
       "      <th>sat_avg_evidence-based_reading_and_writing_in_2018</th>\n",
       "      <th>sat_avg_math_score_in_2018</th>\n",
       "      <th>total_avg_score_for_sat_in_2018</th>\n",
       "    </tr>\n",
       "  </thead>\n",
       "  <tbody>\n",
       "    <tr>\n",
       "      <th>count</th>\n",
       "      <td>51.000000</td>\n",
       "      <td>51.000000</td>\n",
       "      <td>51.000000</td>\n",
       "      <td>51.000000</td>\n",
       "      <td>51.000000</td>\n",
       "      <td>51.000000</td>\n",
       "      <td>51.000000</td>\n",
       "      <td>51.000000</td>\n",
       "      <td>51.000000</td>\n",
       "      <td>51.000000</td>\n",
       "      <td>51.000000</td>\n",
       "      <td>51.000000</td>\n",
       "      <td>51.000000</td>\n",
       "      <td>51.000000</td>\n",
       "      <td>51.000000</td>\n",
       "      <td>51.000000</td>\n",
       "      <td>51.000000</td>\n",
       "      <td>51.000000</td>\n",
       "      <td>51.000000</td>\n",
       "      <td>51.000000</td>\n",
       "    </tr>\n",
       "    <tr>\n",
       "      <th>mean</th>\n",
       "      <td>65.254902</td>\n",
       "      <td>20.931373</td>\n",
       "      <td>21.182353</td>\n",
       "      <td>22.013725</td>\n",
       "      <td>21.041176</td>\n",
       "      <td>21.519608</td>\n",
       "      <td>39.803922</td>\n",
       "      <td>569.117647</td>\n",
       "      <td>547.627451</td>\n",
       "      <td>1126.098039</td>\n",
       "      <td>61.647059</td>\n",
       "      <td>21.486275</td>\n",
       "      <td>20.988235</td>\n",
       "      <td>21.125490</td>\n",
       "      <td>22.015686</td>\n",
       "      <td>21.345098</td>\n",
       "      <td>45.745098</td>\n",
       "      <td>563.686275</td>\n",
       "      <td>556.235294</td>\n",
       "      <td>1120.019608</td>\n",
       "    </tr>\n",
       "    <tr>\n",
       "      <th>std</th>\n",
       "      <td>32.140842</td>\n",
       "      <td>2.353677</td>\n",
       "      <td>1.981989</td>\n",
       "      <td>2.067271</td>\n",
       "      <td>3.182463</td>\n",
       "      <td>2.020695</td>\n",
       "      <td>35.276632</td>\n",
       "      <td>45.666901</td>\n",
       "      <td>84.909119</td>\n",
       "      <td>92.494812</td>\n",
       "      <td>34.080976</td>\n",
       "      <td>2.106278</td>\n",
       "      <td>2.446356</td>\n",
       "      <td>2.035765</td>\n",
       "      <td>2.167245</td>\n",
       "      <td>1.870114</td>\n",
       "      <td>37.314256</td>\n",
       "      <td>47.502627</td>\n",
       "      <td>47.772623</td>\n",
       "      <td>94.155083</td>\n",
       "    </tr>\n",
       "    <tr>\n",
       "      <th>min</th>\n",
       "      <td>8.000000</td>\n",
       "      <td>16.300000</td>\n",
       "      <td>18.000000</td>\n",
       "      <td>18.100000</td>\n",
       "      <td>2.300000</td>\n",
       "      <td>17.800000</td>\n",
       "      <td>2.000000</td>\n",
       "      <td>482.000000</td>\n",
       "      <td>52.000000</td>\n",
       "      <td>950.000000</td>\n",
       "      <td>7.000000</td>\n",
       "      <td>17.700000</td>\n",
       "      <td>16.600000</td>\n",
       "      <td>17.800000</td>\n",
       "      <td>18.000000</td>\n",
       "      <td>17.900000</td>\n",
       "      <td>2.000000</td>\n",
       "      <td>480.000000</td>\n",
       "      <td>480.000000</td>\n",
       "      <td>977.000000</td>\n",
       "    </tr>\n",
       "    <tr>\n",
       "      <th>25%</th>\n",
       "      <td>31.000000</td>\n",
       "      <td>19.000000</td>\n",
       "      <td>19.400000</td>\n",
       "      <td>20.450000</td>\n",
       "      <td>19.900000</td>\n",
       "      <td>19.800000</td>\n",
       "      <td>4.000000</td>\n",
       "      <td>533.500000</td>\n",
       "      <td>522.000000</td>\n",
       "      <td>1055.500000</td>\n",
       "      <td>28.500000</td>\n",
       "      <td>19.950000</td>\n",
       "      <td>19.100000</td>\n",
       "      <td>19.400000</td>\n",
       "      <td>20.450000</td>\n",
       "      <td>19.850000</td>\n",
       "      <td>4.500000</td>\n",
       "      <td>534.500000</td>\n",
       "      <td>522.500000</td>\n",
       "      <td>1057.500000</td>\n",
       "    </tr>\n",
       "    <tr>\n",
       "      <th>50%</th>\n",
       "      <td>69.000000</td>\n",
       "      <td>20.700000</td>\n",
       "      <td>20.900000</td>\n",
       "      <td>21.800000</td>\n",
       "      <td>21.300000</td>\n",
       "      <td>21.400000</td>\n",
       "      <td>38.000000</td>\n",
       "      <td>559.000000</td>\n",
       "      <td>548.000000</td>\n",
       "      <td>1107.000000</td>\n",
       "      <td>66.000000</td>\n",
       "      <td>21.300000</td>\n",
       "      <td>20.200000</td>\n",
       "      <td>20.700000</td>\n",
       "      <td>21.600000</td>\n",
       "      <td>21.100000</td>\n",
       "      <td>52.000000</td>\n",
       "      <td>552.000000</td>\n",
       "      <td>544.000000</td>\n",
       "      <td>1098.000000</td>\n",
       "    </tr>\n",
       "    <tr>\n",
       "      <th>75%</th>\n",
       "      <td>100.000000</td>\n",
       "      <td>23.300000</td>\n",
       "      <td>23.100000</td>\n",
       "      <td>24.150000</td>\n",
       "      <td>22.750000</td>\n",
       "      <td>23.600000</td>\n",
       "      <td>66.000000</td>\n",
       "      <td>613.000000</td>\n",
       "      <td>599.000000</td>\n",
       "      <td>1212.000000</td>\n",
       "      <td>100.000000</td>\n",
       "      <td>23.550000</td>\n",
       "      <td>23.700000</td>\n",
       "      <td>23.150000</td>\n",
       "      <td>24.100000</td>\n",
       "      <td>23.050000</td>\n",
       "      <td>77.500000</td>\n",
       "      <td>610.500000</td>\n",
       "      <td>593.500000</td>\n",
       "      <td>1204.000000</td>\n",
       "    </tr>\n",
       "    <tr>\n",
       "      <th>max</th>\n",
       "      <td>100.000000</td>\n",
       "      <td>25.500000</td>\n",
       "      <td>25.300000</td>\n",
       "      <td>26.000000</td>\n",
       "      <td>24.900000</td>\n",
       "      <td>25.500000</td>\n",
       "      <td>100.000000</td>\n",
       "      <td>644.000000</td>\n",
       "      <td>651.000000</td>\n",
       "      <td>1295.000000</td>\n",
       "      <td>100.000000</td>\n",
       "      <td>25.600000</td>\n",
       "      <td>26.000000</td>\n",
       "      <td>25.200000</td>\n",
       "      <td>26.100000</td>\n",
       "      <td>24.900000</td>\n",
       "      <td>100.000000</td>\n",
       "      <td>643.000000</td>\n",
       "      <td>655.000000</td>\n",
       "      <td>1298.000000</td>\n",
       "    </tr>\n",
       "  </tbody>\n",
       "</table>\n",
       "</div>"
      ],
      "text/plain": [
       "       percentage_of_act_students_tested_in_2017  \\\n",
       "count                                  51.000000   \n",
       "mean                                   65.254902   \n",
       "std                                    32.140842   \n",
       "min                                     8.000000   \n",
       "25%                                    31.000000   \n",
       "50%                                    69.000000   \n",
       "75%                                   100.000000   \n",
       "max                                   100.000000   \n",
       "\n",
       "       act_avg_english_score_in_2017  act_avg_math_score_in_2017  \\\n",
       "count                      51.000000                   51.000000   \n",
       "mean                       20.931373                   21.182353   \n",
       "std                         2.353677                    1.981989   \n",
       "min                        16.300000                   18.000000   \n",
       "25%                        19.000000                   19.400000   \n",
       "50%                        20.700000                   20.900000   \n",
       "75%                        23.300000                   23.100000   \n",
       "max                        25.500000                   25.300000   \n",
       "\n",
       "       act_avg_reading_score_in_2017  act_avg_science_score_in_2017  \\\n",
       "count                      51.000000                      51.000000   \n",
       "mean                       22.013725                      21.041176   \n",
       "std                         2.067271                       3.182463   \n",
       "min                        18.100000                       2.300000   \n",
       "25%                        20.450000                      19.900000   \n",
       "50%                        21.800000                      21.300000   \n",
       "75%                        24.150000                      22.750000   \n",
       "max                        26.000000                      24.900000   \n",
       "\n",
       "       act_avg_composite_score_in_2017  \\\n",
       "count                        51.000000   \n",
       "mean                         21.519608   \n",
       "std                           2.020695   \n",
       "min                          17.800000   \n",
       "25%                          19.800000   \n",
       "50%                          21.400000   \n",
       "75%                          23.600000   \n",
       "max                          25.500000   \n",
       "\n",
       "       percentage_of_sat_students_tested_in_2017  \\\n",
       "count                                  51.000000   \n",
       "mean                                   39.803922   \n",
       "std                                    35.276632   \n",
       "min                                     2.000000   \n",
       "25%                                     4.000000   \n",
       "50%                                    38.000000   \n",
       "75%                                    66.000000   \n",
       "max                                   100.000000   \n",
       "\n",
       "       sat_avg_evidence-based_reading_and_writing_in_2017  \\\n",
       "count                                          51.000000    \n",
       "mean                                          569.117647    \n",
       "std                                            45.666901    \n",
       "min                                           482.000000    \n",
       "25%                                           533.500000    \n",
       "50%                                           559.000000    \n",
       "75%                                           613.000000    \n",
       "max                                           644.000000    \n",
       "\n",
       "       sat_avg_math_score_in_2017  total_avg_score_for_sat_in_2017  \\\n",
       "count                   51.000000                        51.000000   \n",
       "mean                   547.627451                      1126.098039   \n",
       "std                     84.909119                        92.494812   \n",
       "min                     52.000000                       950.000000   \n",
       "25%                    522.000000                      1055.500000   \n",
       "50%                    548.000000                      1107.000000   \n",
       "75%                    599.000000                      1212.000000   \n",
       "max                    651.000000                      1295.000000   \n",
       "\n",
       "       percentage_of_act_students_tested_in_2018  \\\n",
       "count                                  51.000000   \n",
       "mean                                   61.647059   \n",
       "std                                    34.080976   \n",
       "min                                     7.000000   \n",
       "25%                                    28.500000   \n",
       "50%                                    66.000000   \n",
       "75%                                   100.000000   \n",
       "max                                   100.000000   \n",
       "\n",
       "       act_average_composite_score_in_2018  act_average_english_score_in_2018  \\\n",
       "count                            51.000000                          51.000000   \n",
       "mean                             21.486275                          20.988235   \n",
       "std                               2.106278                           2.446356   \n",
       "min                              17.700000                          16.600000   \n",
       "25%                              19.950000                          19.100000   \n",
       "50%                              21.300000                          20.200000   \n",
       "75%                              23.550000                          23.700000   \n",
       "max                              25.600000                          26.000000   \n",
       "\n",
       "       act_average_math_score_in_2018  act_average_reading_score_in_2018  \\\n",
       "count                       51.000000                          51.000000   \n",
       "mean                        21.125490                          22.015686   \n",
       "std                          2.035765                           2.167245   \n",
       "min                         17.800000                          18.000000   \n",
       "25%                         19.400000                          20.450000   \n",
       "50%                         20.700000                          21.600000   \n",
       "75%                         23.150000                          24.100000   \n",
       "max                         25.200000                          26.100000   \n",
       "\n",
       "       act_average_science_score_in_2018  \\\n",
       "count                          51.000000   \n",
       "mean                           21.345098   \n",
       "std                             1.870114   \n",
       "min                            17.900000   \n",
       "25%                            19.850000   \n",
       "50%                            21.100000   \n",
       "75%                            23.050000   \n",
       "max                            24.900000   \n",
       "\n",
       "       percentage_of_sat_students_tested_in_2018  \\\n",
       "count                                  51.000000   \n",
       "mean                                   45.745098   \n",
       "std                                    37.314256   \n",
       "min                                     2.000000   \n",
       "25%                                     4.500000   \n",
       "50%                                    52.000000   \n",
       "75%                                    77.500000   \n",
       "max                                   100.000000   \n",
       "\n",
       "       sat_avg_evidence-based_reading_and_writing_in_2018  \\\n",
       "count                                          51.000000    \n",
       "mean                                          563.686275    \n",
       "std                                            47.502627    \n",
       "min                                           480.000000    \n",
       "25%                                           534.500000    \n",
       "50%                                           552.000000    \n",
       "75%                                           610.500000    \n",
       "max                                           643.000000    \n",
       "\n",
       "       sat_avg_math_score_in_2018  total_avg_score_for_sat_in_2018  \n",
       "count                   51.000000                        51.000000  \n",
       "mean                   556.235294                      1120.019608  \n",
       "std                     47.772623                        94.155083  \n",
       "min                    480.000000                       977.000000  \n",
       "25%                    522.500000                      1057.500000  \n",
       "50%                    544.000000                      1098.000000  \n",
       "75%                    593.500000                      1204.000000  \n",
       "max                    655.000000                      1298.000000  "
      ]
     },
     "execution_count": 167,
     "metadata": {},
     "output_type": "execute_result"
    }
   ],
   "source": [
    "df = pd.read_csv('../data/final.csv')\n",
    "df.describe()"
   ]
  },
  {
   "cell_type": "markdown",
   "metadata": {},
   "source": [
    "#### Manually calculate standard deviation\n",
    "\n",
    "$$\\sigma = \\sqrt{\\frac{1}{n}\\sum_{i=1}^n(x_i - \\mu)^2}$$\n",
    "\n",
    "- Write a function to calculate standard deviation using the formula above"
   ]
  },
  {
   "cell_type": "code",
   "execution_count": 168,
   "metadata": {},
   "outputs": [
    {
     "data": {
      "text/plain": [
       "percentage_of_act_students_tested_in_2017             31.824176\n",
       "act_avg_english_score_in_2017                          2.330488\n",
       "act_avg_math_score_in_2017                             1.962462\n",
       "act_avg_reading_score_in_2017                          2.046903\n",
       "act_avg_science_score_in_2017                          3.151108\n",
       "act_avg_composite_score_in_2017                        2.000786\n",
       "percentage_of_sat_students_tested_in_2017             34.929071\n",
       "sat_avg_evidence-based_reading_and_writing_in_2017    45.216970\n",
       "sat_avg_math_score_in_2017                            84.072555\n",
       "total_avg_score_for_sat_in_2017                       91.583511\n",
       "percentage_of_act_students_tested_in_2018             33.745195\n",
       "act_average_composite_score_in_2018                    2.085526\n",
       "act_average_english_score_in_2018                      2.422254\n",
       "act_average_math_score_in_2018                         2.015707\n",
       "act_average_reading_score_in_2018                      2.145892\n",
       "act_average_science_score_in_2018                      1.851689\n",
       "percentage_of_sat_students_tested_in_2018             36.946619\n",
       "sat_avg_evidence-based_reading_and_writing_in_2018    47.034610\n",
       "sat_avg_math_score_in_2018                            47.301946\n",
       "total_avg_score_for_sat_in_2018                       93.227424\n",
       "dtype: float64"
      ]
     },
     "execution_count": 168,
     "metadata": {},
     "output_type": "execute_result"
    }
   ],
   "source": [
    "dfstd = np.std(df)\n",
    "\n",
    "def compute_std(df):\n",
    "    dfstd = np.std(df)\n",
    "    return df\n",
    "\n",
    "np.std(df)"
   ]
  },
  {
   "cell_type": "markdown",
   "metadata": {},
   "source": [
    "- Use a **dictionary comprehension** to apply your standard deviation function to each numeric column in the dataframe.  **No loops**  \n",
    "- Assign the output to variable `sd` as a dictionary where: \n",
    "    - Each column name is now a key \n",
    "    - That standard deviation of the column is the value \n",
    "     \n",
    "*Example Output :* `{'ACT_Math': 120, 'ACT_Reading': 120, ...}`"
   ]
  },
  {
   "cell_type": "code",
   "execution_count": 169,
   "metadata": {},
   "outputs": [
    {
     "data": {
      "text/plain": [
       "{'percentage_of_act_students_tested_in_2017': 31.824175751231806,\n",
       " 'act_avg_english_score_in_2017': 2.3304876369363363,\n",
       " 'act_avg_math_score_in_2017': 1.9624620273436781,\n",
       " 'act_avg_reading_score_in_2017': 2.0469029314842646,\n",
       " 'act_avg_science_score_in_2017': 3.151107895464408,\n",
       " 'act_avg_composite_score_in_2017': 2.000786081581989,\n",
       " 'percentage_of_sat_students_tested_in_2017': 34.92907076664508,\n",
       " 'sat_avg_evidence-based_reading_and_writing_in_2017': 45.21697020437866,\n",
       " 'sat_avg_math_score_in_2017': 84.07255521608297,\n",
       " 'total_avg_score_for_sat_in_2017': 91.58351056778743,\n",
       " 'percentage_of_act_students_tested_in_2018': 33.745194881997506,\n",
       " 'act_average_composite_score_in_2018': 2.0855261815801147,\n",
       " 'act_average_english_score_in_2018': 2.4222536143202795,\n",
       " 'act_average_math_score_in_2018': 2.015707255555717,\n",
       " 'act_average_reading_score_in_2018': 2.145891884510421,\n",
       " 'act_average_science_score_in_2018': 1.8516885484833543,\n",
       " 'percentage_of_sat_students_tested_in_2018': 36.946619223539415,\n",
       " 'sat_avg_evidence-based_reading_and_writing_in_2018': 47.03460978357609,\n",
       " 'sat_avg_math_score_in_2018': 47.30194550378352,\n",
       " 'total_avg_score_for_sat_in_2018': 93.22742384464433}"
      ]
     },
     "execution_count": 169,
     "metadata": {},
     "output_type": "execute_result"
    }
   ],
   "source": [
    "{i : compute_std(col) for i, col in dfstd.items()}"
   ]
  },
  {
   "cell_type": "markdown",
   "metadata": {},
   "source": [
    "Do your manually calculated standard deviations match up with the output from pandas `describe`? What about numpy's `std` method?"
   ]
  },
  {
   "cell_type": "markdown",
   "metadata": {},
   "source": [
    "<span style=\"color: blue\">**Aswer:**</span>\n",
    "Manually calculated standard deviations does not really, match up to the values under pandas describe. (slight difference)\n",
    "\n",
    "For numpy's std method, results matches from the manually calculated standard deviations.\n",
    "<hr>"
   ]
  },
  {
   "cell_type": "markdown",
   "metadata": {},
   "source": [
    "#### Investigate trends in the data\n",
    "Using sorting and/or masking (along with the `.head` method to not print our entire dataframe), consider the following questions:\n",
    "\n",
    "- Which states have the highest and lowest participation rates for the:\n",
    "    - 2017 SAT?\n",
    "    - 2018 SAT?\n",
    "    - 2017 ACT?\n",
    "    - 2018 ACT?\n",
    "- Which states have the highest and lowest mean total/composite scores for the:\n",
    "    - 2017 SAT?\n",
    "    - 2018 SAT?\n",
    "    - 2017 ACT?\n",
    "    - 2018 ACT?\n",
    "- Do any states with 100% participation on a given test have a rate change year-to-year?  \n",
    "- Do any states show have >50% participation on *both* tests either year?\n",
    "\n",
    "Based on what you've just observed, have you identified any states that you're especially interested in? **Make a note of these and state *why* you think they're interesting**.\n",
    "\n",
    "**You should comment on your findings at each step in a markdown cell below your code block**. Make sure you include at least one example of sorting your dataframe by a column, and one example of using boolean filtering (i.e., masking) to select a subset of the dataframe."
   ]
  },
  {
   "cell_type": "markdown",
   "metadata": {},
   "source": [
    "**Question:** Do any states with 100% participation on a given test have a rate change year-to-year?\n",
    "\n",
    "<span style=\"color: blue\">**Answer:**</span>\n",
    "\n",
    "For SAT, District of Columbia.\n",
    "For ACT, Minnesota, Colorado\n"
   ]
  },
  {
   "cell_type": "markdown",
   "metadata": {},
   "source": [
    "df[(df['percentage_of_act_students_tested_in_2017'] > 50) & (df['percentage_of_sat_students_tested_in_2017'] > 50)]"
   ]
  },
  {
   "cell_type": "markdown",
   "metadata": {},
   "source": [
    "**Question:** Do any states show have >50% participation on *both* tests either year?\n",
    "\n",
    "<span style=\"color: blue\">**Aswer:**</span> The 3 states shown above has more than 50% participation for both test in 2017."
   ]
  },
  {
   "cell_type": "markdown",
   "metadata": {},
   "source": [
    "#FOR 2018 <50% for both test\n",
    "df[(df['percentage_of_act_students_tested_in_2018'] > 50) & (df['percentage_of_sat_students_tested_in_2018'] > 50)]"
   ]
  },
  {
   "cell_type": "markdown",
   "metadata": {},
   "source": [
    "**Question:** Do any states show have >50% participation on *both* tests either year?\n",
    "\n",
    "<span style=\"color: blue\">**Answer:**</span> The 5 states shown above has more than 50% participation for both test in 2018."
   ]
  },
  {
   "cell_type": "markdown",
   "metadata": {},
   "source": [
    "#Lowest SAT participation states, 2017\n",
    "df.sort_values('percentage_of_sat_students_tested_in_2017')[['state','percentage_of_sat_students_tested_in_2017']].head()"
   ]
  },
  {
   "cell_type": "markdown",
   "metadata": {},
   "source": [
    "<span style=\"color: blue\">**Answer:**</span> North Dakota, Mississippi, Iowa has the lowest sat participation rate in 2017."
   ]
  },
  {
   "cell_type": "markdown",
   "metadata": {},
   "source": [
    "#Highest SAT participation states, 2017\n",
    "df.sort_values('percentage_of_sat_students_tested_in_2017',ascending=False)[['state','percentage_of_sat_students_tested_in_2017']].head(4)"
   ]
  },
  {
   "cell_type": "markdown",
   "metadata": {},
   "source": [
    "<span style=\"color: blue\">**Answer:**</span> The four states above shows the highest sat participation rate in 2017."
   ]
  },
  {
   "cell_type": "markdown",
   "metadata": {},
   "source": [
    "#Highest SAT participation states, 2017\n",
    "df.sort_values('percentage_of_sat_students_tested_in_2018',ascending=False)[['state','percentage_of_sat_students_tested_in_2018']].head(5)"
   ]
  },
  {
   "cell_type": "markdown",
   "metadata": {},
   "source": [
    "<span style=\"color: blue\">**Answer:**</span> The four states above shows the highest sat participation rate in 2018."
   ]
  },
  {
   "cell_type": "markdown",
   "metadata": {},
   "source": [
    "#Lowest SAT participation states, 2018\n",
    "df.sort_values('percentage_of_sat_students_tested_in_2018')[['state','percentage_of_sat_students_tested_in_2018']].head()"
   ]
  },
  {
   "cell_type": "markdown",
   "metadata": {},
   "source": [
    "<span style=\"color: blue\">**Answer:**</span> North Dakota has the lowest participation rate in 2018."
   ]
  },
  {
   "cell_type": "markdown",
   "metadata": {
    "scrolled": true
   },
   "source": [
    "#Highest SAT participation states, 2018\n",
    "df.sort_values('percentage_of_sat_students_tested_in_2018',ascending=False)[['state','percentage_of_sat_students_tested_in_2018']].head(7)"
   ]
  },
  {
   "cell_type": "markdown",
   "metadata": {},
   "source": [
    "<span style=\"color: blue\">**Answer:**</span> The five states above has the highest percentage in sat participation rate in 2018."
   ]
  },
  {
   "cell_type": "markdown",
   "metadata": {},
   "source": [
    "#Lowest ACT participation states, 2017\n",
    "df.sort_values('percentage_of_act_students_tested_in_2017')[['state','percentage_of_act_students_tested_in_2017']].head()"
   ]
  },
  {
   "cell_type": "markdown",
   "metadata": {},
   "source": [
    "<span style=\"color: blue\">**Answer:**</span> Maine has the lowest act participation rate in 2017."
   ]
  },
  {
   "cell_type": "markdown",
   "metadata": {},
   "source": [
    "#Highest ACT participation states, 2017\n",
    "df.sort_values('percentage_of_act_students_tested_in_2017',ascending=False)[['state','percentage_of_act_students_tested_in_2017']].head(17)"
   ]
  },
  {
   "cell_type": "markdown",
   "metadata": {},
   "source": [
    "<span style=\"color: blue\">**Answer:**</span> The 17 states above shown the highest ACT participation rate in 2017."
   ]
  },
  {
   "cell_type": "markdown",
   "metadata": {},
   "source": [
    "#Highest ACT participation states, 2018\n",
    "df.sort_values('percentage_of_act_students_tested_in_2018',ascending=False)[['state','percentage_of_act_students_tested_in_2018']].head(17)"
   ]
  },
  {
   "cell_type": "markdown",
   "metadata": {},
   "source": [
    "<span style=\"color: blue\">**Answer:**</span> The 17 states above shown the highest ACT participation rate in 2018."
   ]
  },
  {
   "cell_type": "markdown",
   "metadata": {},
   "source": [
    "#Lowest ACT participation states, 2018\n",
    "df.sort_values('percentage_of_act_students_tested_in_2018')[['state','percentage_of_act_students_tested_in_2018']].head()"
   ]
  },
  {
   "cell_type": "markdown",
   "metadata": {},
   "source": [
    "<span style=\"color: blue\">**Answer:**</span> Maine had the lowest ACT participation rate in 2018."
   ]
  },
  {
   "cell_type": "markdown",
   "metadata": {
    "scrolled": true
   },
   "source": [
    "#Lowest SAT Scores, 2017\n",
    "df.sort_values('total_score_for_sat_in_2017')[['state','total_score_for_sat_in_2017']].head()"
   ]
  },
  {
   "cell_type": "markdown",
   "metadata": {},
   "source": [
    "<span style=\"color: blue\">**Answer:**</span> District of Columbia had the lowest sat score in 2017."
   ]
  },
  {
   "cell_type": "markdown",
   "metadata": {},
   "source": [
    "#Highest SAT Scores, 2017\n",
    "df.sort_values('total_score_for_sat_in_2017', ascending=False)[['state','total_score_for_sat_in_2017']].head()"
   ]
  },
  {
   "cell_type": "markdown",
   "metadata": {},
   "source": [
    "<span style=\"color: blue\">**Answer:**</span> Minnesota had the highest sat score in 2017."
   ]
  },
  {
   "cell_type": "markdown",
   "metadata": {},
   "source": [
    "#Highest SAT Scores, 2017\n",
    "df.sort_values('act_average_composite_score_in_2017', ascending=False)[['state','act_average_composite_score_in_2017']].head()"
   ]
  },
  {
   "cell_type": "markdown",
   "metadata": {},
   "source": [
    "#Lowest SAT Scores, 2018\n",
    "df.sort_values('act_average_composite_score_in_2018')[['state','act_average_composite_score_in_2018']].head()"
   ]
  },
  {
   "cell_type": "markdown",
   "metadata": {},
   "source": [
    "## Visualize the data\n",
    "\n",
    "There's not a magic bullet recommendation for the right number of plots to understand a given dataset, but visualizing your data is *always* a good idea. Not only does it allow you to quickly convey your findings (even if you have a non-technical audience), it will often reveal trends in your data that escaped you when you were looking only at numbers.\n",
    "\n",
    "Some recommendations on plotting:\n",
    "- Plots have titles\n",
    "- Plots have axis labels\n",
    "- Plots have appropriate tick labels\n",
    "- All text is legible in a plot\n",
    "- Plots demonstrate meaningful and valid relationships\n",
    "- Plots are interpreted to aid understanding\n",
    "\n",
    "There is such a thing as too many plots, and there are a *lot* of bad plots. You might make some! (But hopefully not with the guided prompts below)."
   ]
  },
  {
   "cell_type": "markdown",
   "metadata": {},
   "source": [
    "#### Use Seaborn's heatmap with pandas `.corr()` to visualize correlations between all numeric features\n",
    "\n",
    "Heatmaps are generally not appropriate for presentations, and should often be excluded from reports as they can be visually overwhelming. **However**, they can be extremely useful in identify relationships of potential interest (as well as identifying potential collinearity before modeling).\n",
    "\n",
    "*example*:\n",
    "```python\n",
    "sns.heatmap(df.corr())\n",
    "```\n",
    "\n",
    "Please take time to format your output, adding a title. Look through some of the additional arguments and options. (Axis labels aren't really necessary, as long as the title is informative)."
   ]
  },
  {
   "cell_type": "code",
   "execution_count": 170,
   "metadata": {},
   "outputs": [
    {
     "data": {
      "image/png": "[encoded data removed]",
      "text/plain": [
       "<Figure size 1080x1080 with 2 Axes>"
      ]
     },
     "metadata": {},
     "output_type": "display_data"
    }
   ],
   "source": [
    "import seaborn as sns\n",
    "\n",
    "corr = df.corr()\n",
    "mask = np.zeros_like(corr)\n",
    "mask[np.triu_indices_from(mask)] = True\n",
    "\n",
    "cmap = sns.cubehelix_palette(light=1, as_cmap=True)\n",
    "f, ax = plt.subplots(figsize=(15, 15))\n",
    "ax = sns.heatmap(df.corr(),annot=True,cmap= cmap, center=0, mask = mask)\n",
    "ax.set_title('Correlation_Heatmap_for_SAT_and_ACT\\n');"
   ]
  },
  {
   "cell_type": "markdown",
   "metadata": {},
   "source": [
    "#### Define a custom function to subplot histograms\n",
    "\n",
    "We have data for two tests for two years. We only have composite (and not subtest scores) for the 2018 ACT. We should write a function that will take the names of 2+ columns and subplot histograms. While you can use pandas plotting or Seaborn here, matplotlib gives you greater control over all aspects of your plots.\n",
    "\n",
    "[Helpful Link for Plotting Multiple Figures](https://matplotlib.org/users/pyplot_tutorial.html#working-with-multiple-figures-and-axes)\n",
    "\n",
    "Here's some starter code:"
   ]
  },
  {
   "cell_type": "code",
   "execution_count": 171,
   "metadata": {},
   "outputs": [],
   "source": [
    "def subplot_histograms(dataframe, list_of_columns, list_of_titles, list_of_xlabels):\n",
    "    nrows = int(np.ceil(len(list_of_columns)/2)) # Makes sure you have enough rows\n",
    "    fig, ax = plt.subplots(nrows=nrows, ncols=2) # You'll want to specify your figsize\n",
    "    ax = ax.ravel() # Ravel turns a matrix into a vector, which is easier to iterate\n",
    "    for i, column in enumerate(list_of_columns): # Gives us an index value to get into all our lists\n",
    "        ax[i].hist(dataframe[column]) # feel free to add more settings\n",
    "        # Set titles, labels, etc here for each subplot"
   ]
  },
  {
   "cell_type": "code",
   "execution_count": 172,
   "metadata": {},
   "outputs": [
    {
     "data": {
      "text/html": [
       "<div>\n",
       "<style scoped>\n",
       "    .dataframe tbody tr th:only-of-type {\n",
       "        vertical-align: middle;\n",
       "    }\n",
       "\n",
       "    .dataframe tbody tr th {\n",
       "        vertical-align: top;\n",
       "    }\n",
       "\n",
       "    .dataframe thead th {\n",
       "        text-align: right;\n",
       "    }\n",
       "</style>\n",
       "<table border=\"1\" class=\"dataframe\">\n",
       "  <thead>\n",
       "    <tr style=\"text-align: right;\">\n",
       "      <th></th>\n",
       "      <th>state</th>\n",
       "      <th>percentage_of_act_students_tested_in_2017</th>\n",
       "      <th>act_avg_english_score_in_2017</th>\n",
       "      <th>act_avg_math_score_in_2017</th>\n",
       "      <th>act_avg_reading_score_in_2017</th>\n",
       "      <th>act_avg_science_score_in_2017</th>\n",
       "      <th>act_avg_composite_score_in_2017</th>\n",
       "      <th>percentage_of_sat_students_tested_in_2017</th>\n",
       "      <th>sat_avg_evidence-based_reading_and_writing_in_2017</th>\n",
       "      <th>sat_avg_math_score_in_2017</th>\n",
       "      <th>...</th>\n",
       "      <th>percentage_of_act_students_tested_in_2018</th>\n",
       "      <th>act_average_composite_score_in_2018</th>\n",
       "      <th>act_average_english_score_in_2018</th>\n",
       "      <th>act_average_math_score_in_2018</th>\n",
       "      <th>act_average_reading_score_in_2018</th>\n",
       "      <th>act_average_science_score_in_2018</th>\n",
       "      <th>percentage_of_sat_students_tested_in_2018</th>\n",
       "      <th>sat_avg_evidence-based_reading_and_writing_in_2018</th>\n",
       "      <th>sat_avg_math_score_in_2018</th>\n",
       "      <th>total_avg_score_for_sat_in_2018</th>\n",
       "    </tr>\n",
       "  </thead>\n",
       "  <tbody>\n",
       "    <tr>\n",
       "      <th>0</th>\n",
       "      <td>Alabama</td>\n",
       "      <td>100</td>\n",
       "      <td>18.9</td>\n",
       "      <td>18.4</td>\n",
       "      <td>19.7</td>\n",
       "      <td>19.4</td>\n",
       "      <td>19.2</td>\n",
       "      <td>5</td>\n",
       "      <td>593</td>\n",
       "      <td>572</td>\n",
       "      <td>...</td>\n",
       "      <td>100</td>\n",
       "      <td>19.1</td>\n",
       "      <td>18.9</td>\n",
       "      <td>18.3</td>\n",
       "      <td>19.6</td>\n",
       "      <td>19.0</td>\n",
       "      <td>6.0</td>\n",
       "      <td>595</td>\n",
       "      <td>571</td>\n",
       "      <td>1166</td>\n",
       "    </tr>\n",
       "    <tr>\n",
       "      <th>1</th>\n",
       "      <td>Alaska</td>\n",
       "      <td>65</td>\n",
       "      <td>18.7</td>\n",
       "      <td>19.8</td>\n",
       "      <td>20.4</td>\n",
       "      <td>19.9</td>\n",
       "      <td>19.8</td>\n",
       "      <td>38</td>\n",
       "      <td>547</td>\n",
       "      <td>533</td>\n",
       "      <td>...</td>\n",
       "      <td>33</td>\n",
       "      <td>20.8</td>\n",
       "      <td>19.8</td>\n",
       "      <td>20.6</td>\n",
       "      <td>21.6</td>\n",
       "      <td>20.7</td>\n",
       "      <td>43.0</td>\n",
       "      <td>562</td>\n",
       "      <td>544</td>\n",
       "      <td>1106</td>\n",
       "    </tr>\n",
       "    <tr>\n",
       "      <th>2</th>\n",
       "      <td>Arizona</td>\n",
       "      <td>62</td>\n",
       "      <td>18.6</td>\n",
       "      <td>19.8</td>\n",
       "      <td>20.1</td>\n",
       "      <td>19.8</td>\n",
       "      <td>19.7</td>\n",
       "      <td>30</td>\n",
       "      <td>563</td>\n",
       "      <td>553</td>\n",
       "      <td>...</td>\n",
       "      <td>66</td>\n",
       "      <td>19.2</td>\n",
       "      <td>18.2</td>\n",
       "      <td>19.4</td>\n",
       "      <td>19.5</td>\n",
       "      <td>19.2</td>\n",
       "      <td>29.0</td>\n",
       "      <td>577</td>\n",
       "      <td>572</td>\n",
       "      <td>1149</td>\n",
       "    </tr>\n",
       "    <tr>\n",
       "      <th>3</th>\n",
       "      <td>Arkansas</td>\n",
       "      <td>100</td>\n",
       "      <td>18.9</td>\n",
       "      <td>19.0</td>\n",
       "      <td>19.7</td>\n",
       "      <td>19.5</td>\n",
       "      <td>19.4</td>\n",
       "      <td>3</td>\n",
       "      <td>614</td>\n",
       "      <td>594</td>\n",
       "      <td>...</td>\n",
       "      <td>100</td>\n",
       "      <td>19.4</td>\n",
       "      <td>19.1</td>\n",
       "      <td>18.9</td>\n",
       "      <td>19.7</td>\n",
       "      <td>19.4</td>\n",
       "      <td>5.0</td>\n",
       "      <td>592</td>\n",
       "      <td>576</td>\n",
       "      <td>1169</td>\n",
       "    </tr>\n",
       "    <tr>\n",
       "      <th>4</th>\n",
       "      <td>California</td>\n",
       "      <td>31</td>\n",
       "      <td>22.5</td>\n",
       "      <td>22.7</td>\n",
       "      <td>23.1</td>\n",
       "      <td>22.2</td>\n",
       "      <td>22.8</td>\n",
       "      <td>53</td>\n",
       "      <td>531</td>\n",
       "      <td>524</td>\n",
       "      <td>...</td>\n",
       "      <td>27</td>\n",
       "      <td>22.7</td>\n",
       "      <td>22.5</td>\n",
       "      <td>22.5</td>\n",
       "      <td>23.0</td>\n",
       "      <td>22.1</td>\n",
       "      <td>60.0</td>\n",
       "      <td>540</td>\n",
       "      <td>536</td>\n",
       "      <td>1076</td>\n",
       "    </tr>\n",
       "  </tbody>\n",
       "</table>\n",
       "<p>5 rows × 21 columns</p>\n",
       "</div>"
      ],
      "text/plain": [
       "        state  percentage_of_act_students_tested_in_2017  \\\n",
       "0     Alabama                                        100   \n",
       "1      Alaska                                         65   \n",
       "2     Arizona                                         62   \n",
       "3    Arkansas                                        100   \n",
       "4  California                                         31   \n",
       "\n",
       "   act_avg_english_score_in_2017  act_avg_math_score_in_2017  \\\n",
       "0                           18.9                        18.4   \n",
       "1                           18.7                        19.8   \n",
       "2                           18.6                        19.8   \n",
       "3                           18.9                        19.0   \n",
       "4                           22.5                        22.7   \n",
       "\n",
       "   act_avg_reading_score_in_2017  act_avg_science_score_in_2017  \\\n",
       "0                           19.7                           19.4   \n",
       "1                           20.4                           19.9   \n",
       "2                           20.1                           19.8   \n",
       "3                           19.7                           19.5   \n",
       "4                           23.1                           22.2   \n",
       "\n",
       "   act_avg_composite_score_in_2017  percentage_of_sat_students_tested_in_2017  \\\n",
       "0                             19.2                                          5   \n",
       "1                             19.8                                         38   \n",
       "2                             19.7                                         30   \n",
       "3                             19.4                                          3   \n",
       "4                             22.8                                         53   \n",
       "\n",
       "   sat_avg_evidence-based_reading_and_writing_in_2017  \\\n",
       "0                                                593    \n",
       "1                                                547    \n",
       "2                                                563    \n",
       "3                                                614    \n",
       "4                                                531    \n",
       "\n",
       "   sat_avg_math_score_in_2017  ...  percentage_of_act_students_tested_in_2018  \\\n",
       "0                         572  ...                                        100   \n",
       "1                         533  ...                                         33   \n",
       "2                         553  ...                                         66   \n",
       "3                         594  ...                                        100   \n",
       "4                         524  ...                                         27   \n",
       "\n",
       "   act_average_composite_score_in_2018  act_average_english_score_in_2018  \\\n",
       "0                                 19.1                               18.9   \n",
       "1                                 20.8                               19.8   \n",
       "2                                 19.2                               18.2   \n",
       "3                                 19.4                               19.1   \n",
       "4                                 22.7                               22.5   \n",
       "\n",
       "   act_average_math_score_in_2018  act_average_reading_score_in_2018  \\\n",
       "0                            18.3                               19.6   \n",
       "1                            20.6                               21.6   \n",
       "2                            19.4                               19.5   \n",
       "3                            18.9                               19.7   \n",
       "4                            22.5                               23.0   \n",
       "\n",
       "   act_average_science_score_in_2018  \\\n",
       "0                               19.0   \n",
       "1                               20.7   \n",
       "2                               19.2   \n",
       "3                               19.4   \n",
       "4                               22.1   \n",
       "\n",
       "   percentage_of_sat_students_tested_in_2018  \\\n",
       "0                                        6.0   \n",
       "1                                       43.0   \n",
       "2                                       29.0   \n",
       "3                                        5.0   \n",
       "4                                       60.0   \n",
       "\n",
       "   sat_avg_evidence-based_reading_and_writing_in_2018  \\\n",
       "0                                                595    \n",
       "1                                                562    \n",
       "2                                                577    \n",
       "3                                                592    \n",
       "4                                                540    \n",
       "\n",
       "   sat_avg_math_score_in_2018  total_avg_score_for_sat_in_2018  \n",
       "0                         571                             1166  \n",
       "1                         544                             1106  \n",
       "2                         572                             1149  \n",
       "3                         576                             1169  \n",
       "4                         536                             1076  \n",
       "\n",
       "[5 rows x 21 columns]"
      ]
     },
     "execution_count": 172,
     "metadata": {},
     "output_type": "execute_result"
    }
   ],
   "source": [
    "df.head()"
   ]
  },
  {
   "cell_type": "code",
   "execution_count": 173,
   "metadata": {},
   "outputs": [
    {
     "data": {
      "image/png": "[encoded data removed]",
      "text/plain": [
       "<Figure size 1440x432 with 2 Axes>"
      ]
     },
     "metadata": {},
     "output_type": "display_data"
    }
   ],
   "source": [
    "fig, axes = plt.subplots(1,2, figsize=(20,6))\n",
    "df['act_avg_composite_score_in_2017'].plot(kind='hist', bins=20, fontsize=12, ax=axes[0])\\\n",
    "       .set_title('ACT Composite 2017', fontsize=21, y=1.01);\n",
    "df['act_average_composite_score_in_2018'].plot(kind='hist', bins=20, fontsize=12, ax=axes[1])\\\n",
    "       .set_title('ACT Composite 2018', fontsize=21, y=1.01);"
   ]
  },
  {
   "cell_type": "markdown",
   "metadata": {},
   "source": [
    "<span style=\"color: blue\">**Comment:**</span> There seem to be an over all increase of Composite score for ACT from 2017 to 2018.\n",
    "<hr>"
   ]
  },
  {
   "cell_type": "markdown",
   "metadata": {},
   "source": [
    "#### Plot and interpret histograms \n",
    "For each of the following:\n",
    "- Participation rates for SAT & ACT\n",
    "- Math scores for SAT & ACT\n",
    "- Reading/verbal scores for SAT & ACT"
   ]
  },
  {
   "cell_type": "code",
   "execution_count": 174,
   "metadata": {},
   "outputs": [
    {
     "data": {
      "image/png": "[encoded data removed]",
      "text/plain": [
       "<Figure size 1080x720 with 4 Axes>"
      ]
     },
     "metadata": {},
     "output_type": "display_data"
    }
   ],
   "source": [
    "fig, axes = plt.subplots(2,2, figsize=(15,10))\n",
    "\n",
    "df['percentage_of_sat_students_tested_in_2017'].plot(kind='hist', bins=20, fontsize=10, ax=axes[0][0])\\\n",
    ".set_title('participation rates for sat 2017', fontsize=21, y=1.01);\n",
    "\n",
    "df['percentage_of_sat_students_tested_in_2018'].plot(kind='hist', bins=20, fontsize=10, ax=axes[0][1])\\\n",
    ".set_title('participation rates for sat 2018', fontsize=21, y=1.01);\n",
    "\n",
    "df['percentage_of_act_students_tested_in_2017'].plot(kind='hist', bins=20, fontsize=10, ax=axes[1][0])\\\n",
    ".set_title('participation rates for act 2017', fontsize=21, y=1.01);\n",
    "\n",
    "df['percentage_of_act_students_tested_in_2018'].plot(kind='hist', bins=20, fontsize=10, ax=axes[1][1])\\\n",
    ".set_title('participation rates for act 2018', fontsize=21, y=1.01);"
   ]
  },
  {
   "cell_type": "markdown",
   "metadata": {},
   "source": [
    "<span style=\"color: blue\">**Comment:**</span> There seem to be an over all decrease of participation rate for SAT students from 2017 to 2018.\n",
    "<hr>"
   ]
  },
  {
   "cell_type": "code",
   "execution_count": 175,
   "metadata": {},
   "outputs": [
    {
     "data": {
      "image/png": "[encoded data removed]",
      "text/plain": [
       "<Figure size 1080x720 with 4 Axes>"
      ]
     },
     "metadata": {},
     "output_type": "display_data"
    }
   ],
   "source": [
    "fig, axes = plt.subplots(2,2, figsize=(15,10))\n",
    "\n",
    "df['act_avg_math_score_in_2017'].plot(kind='hist', bins=20, fontsize=10, ax=axes[0][0])\\\n",
    ".set_title('average math score for act 2017', fontsize=21, y=1.01);\n",
    "\n",
    "df['act_average_math_score_in_2018'].plot(kind='hist', bins=20, fontsize=10, ax=axes[0][1])\\\n",
    ".set_title('average math score for act 2018', fontsize=21, y=1.01);\n",
    "\n",
    "df['sat_avg_math_score_in_2017'].plot(kind='hist', bins=20, fontsize=10, ax=axes[1][0])\\\n",
    ".set_title('average math score for sat 2017', fontsize=21, y=1.01);\n",
    "\n",
    "df['sat_avg_math_score_in_2018'].plot(kind='hist', bins=20, fontsize=10, ax=axes[1][1])\\\n",
    ".set_title('average math score for sat 2018', fontsize=21, y=1.01);"
   ]
  },
  {
   "cell_type": "markdown",
   "metadata": {},
   "source": [
    "<span style=\"color: blue\">**Comment:**</span> There seem to be an overall decrease of average math score for SAT students from 2017 to 2018.\n",
    "<hr>"
   ]
  },
  {
   "cell_type": "code",
   "execution_count": 176,
   "metadata": {},
   "outputs": [
    {
     "data": {
      "image/png": "[encoded data removed]",
      "text/plain": [
       "<Figure size 1080x720 with 4 Axes>"
      ]
     },
     "metadata": {},
     "output_type": "display_data"
    }
   ],
   "source": [
    "fig, axes = plt.subplots(2,2, figsize=(15,10))\n",
    "\n",
    "df['act_avg_reading_score_in_2017'].plot(kind='hist', bins=20, fontsize=10, ax=axes[0][0])\\\n",
    ".set_title('avg reading score for act 2017', fontsize=21, y=1.01);\n",
    "\n",
    "df['act_average_reading_score_in_2018'].plot(kind='hist', bins=20, fontsize=10, ax=axes[0][1])\\\n",
    ".set_title('avg reading score for act 2018', fontsize=21, y=1.01);\n",
    "\n",
    "df['sat_avg_evidence-based_reading_and_writing_in_2017'].plot(kind='hist', bins=20, fontsize=10, ax=axes[1][0])\\\n",
    ".set_title('avg reading score for sat 2017', fontsize=21, y=1.01);\n",
    "\n",
    "\n",
    "df['sat_avg_evidence-based_reading_and_writing_in_2018'].plot(kind='hist', bins=20, fontsize=10, ax=axes[1][1])\\\n",
    ".set_title('avg reading score for sat 2018', fontsize=21, y=1.01);\n",
    "\n"
   ]
  },
  {
   "cell_type": "markdown",
   "metadata": {},
   "source": [
    "<span style=\"color: blue\">**Comment:**</span> There seem to be an overall increase of average read score for SAT students from 2017 to 2018.\n",
    "<hr>"
   ]
  },
  {
   "cell_type": "markdown",
   "metadata": {},
   "source": [
    "#### Plot and interpret scatter plots\n",
    "\n",
    "For each of the following:\n",
    "- SAT vs. ACT math scores for 2017\n",
    "- SAT vs. ACT verbal/reading scores for 2017\n",
    "- SAT vs. ACT total/composite scores for 2017\n",
    "- Total scores for SAT 2017 vs. 2018\n",
    "- Composite scores for ACT 2017 vs. 2018\n",
    "\n",
    "Plot the two variables against each other using matplotlib or Seaborn\n",
    "\n",
    "Your plots should show:\n",
    "- Two clearly labeled axes\n",
    "- A proper title\n",
    "- Using colors and symbols that are clear and unmistakable\n",
    "\n",
    "**Feel free to write a custom function, and subplot if you'd like.** Functions save both time and space.\n"
   ]
  },
  {
   "cell_type": "code",
   "execution_count": 177,
   "metadata": {},
   "outputs": [
    {
     "data": {
      "image/png": "[encoded data removed]",
      "text/plain": [
       "<Figure size 1440x432 with 1 Axes>"
      ]
     },
     "metadata": {},
     "output_type": "display_data"
    }
   ],
   "source": [
    "def subplot_scatterplot(column1,column2,xlabel,ylabel,title):\n",
    "    f = plt.figure(figsize=(20,6))\n",
    "    sns.set_style('whitegrid')\n",
    "    sns.scatterplot(x=df['sat_avg_math_score_in_2017'],y=df['act_avg_math_score_in_2017'])\n",
    "    plt.xlabel(xlabel, fontsize = 16)\n",
    "    plt.ylabel(ylabel, fontsize = 16)\n",
    "    plt.title(title, fontsize = 20);\n",
    "    \n",
    "subplot_scatterplot('sat_average_math_score_2017',\n",
    "                    'act_average_math_score_2017',\n",
    "                    'SAT math scores for 2017',\n",
    "                    'ACT math scores for 2017',\n",
    "                    'SAT vs. ACT math scores for 2017')"
   ]
  },
  {
   "cell_type": "markdown",
   "metadata": {},
   "source": [
    "<span style=\"color: blue\">**Answer:**</span> This graph shows that ACT and SAT verbal/reading score is not correlated and that there might be an error data entrance as shown on the left side of the graph.\n",
    "<hr>"
   ]
  },
  {
   "cell_type": "code",
   "execution_count": 178,
   "metadata": {},
   "outputs": [
    {
     "data": {
      "image/png": "[encoded data removed]",
      "text/plain": [
       "<Figure size 1152x432 with 1 Axes>"
      ]
     },
     "metadata": {},
     "output_type": "display_data"
    }
   ],
   "source": [
    "def subplot_scatterplot(column1,column2,xlabel,ylabel,title):\n",
    "    f = plt.figure(figsize=(16,6))\n",
    "    sns.set_style('whitegrid')\n",
    "    sns.scatterplot(x=df['total_avg_score_for_sat_in_2017'],\n",
    "                    y=df['act_avg_composite_score_in_2017'])\n",
    "    plt.xlabel(xlabel, fontsize = 16)\n",
    "    plt.ylabel(ylabel, fontsize = 16)\n",
    "    plt.title(title, fontsize = 20);\n",
    "    \n",
    "subplot_scatterplot('total_2017',\n",
    "                    'composite',\n",
    "                    'SAT total/composite scores for 2017',\n",
    "                    'ACT total/composite scores for 2017',\n",
    "                    'SAT vs. ACT total/composite scores for 2017')\n",
    "\n"
   ]
  },
  {
   "cell_type": "markdown",
   "metadata": {},
   "source": [
    "<span style=\"color: blue\">**Answer:**</span> This graph shows that ACT and SAT total/composite score is not correlated. \n",
    "<hr>"
   ]
  },
  {
   "cell_type": "code",
   "execution_count": 179,
   "metadata": {},
   "outputs": [
    {
     "data": {
      "image/png": "[encoded data removed]",
      "text/plain": [
       "<Figure size 1152x432 with 1 Axes>"
      ]
     },
     "metadata": {},
     "output_type": "display_data"
    }
   ],
   "source": [
    "def subplot_scatterplot(column1,column2,xlabel,ylabel,title):\n",
    "    f = plt.figure(figsize=(16,6))\n",
    "    sns.set_style('whitegrid')\n",
    "    sns.scatterplot(x=df['total_avg_score_for_sat_in_2017'],\n",
    "                    y=df['total_avg_score_for_sat_in_2018'])\n",
    "    plt.xlabel(xlabel, fontsize = 14)\n",
    "    plt.ylabel(ylabel, fontsize = 14)\n",
    "    plt.title(title, fontsize = 20, y=1.01);\n",
    "    \n",
    "subplot_scatterplot('total_2017',\n",
    "                    'total_2018',\n",
    "                    'SAT total scores for 2017',\n",
    "                    'SAT total scores for 2018',\n",
    "                    'Total scores for SAT 2017 vs. 2018')"
   ]
  },
  {
   "cell_type": "markdown",
   "metadata": {},
   "source": [
    "<span style=\"color: blue\">**Answer:**</span> Approximately 8 states has their total score dropped in 2018, as compared to 2017.\n",
    "Only 1 state had their total score increased.\n",
    "<hr>"
   ]
  },
  {
   "cell_type": "code",
   "execution_count": 180,
   "metadata": {},
   "outputs": [
    {
     "data": {
      "image/png": "[encoded data removed]",
      "text/plain": [
       "<Figure size 1440x432 with 1 Axes>"
      ]
     },
     "metadata": {},
     "output_type": "display_data"
    }
   ],
   "source": [
    "def subplot_scatterplot(column1,column2,xlabel,ylabel,title):\n",
    "    f = plt.figure(figsize=(20,6))\n",
    "    sns.set_style('whitegrid')\n",
    "    sns.scatterplot(x=df['act_avg_composite_score_in_2017'],\n",
    "                    y=df['act_average_composite_score_in_2018'])\n",
    "    plt.xlabel(xlabel, fontsize = 14)\n",
    "    plt.ylabel(ylabel, fontsize = 14)\n",
    "    plt.title(title, fontsize = 20, y=1.01);\n",
    "    \n",
    "subplot_scatterplot('composite',\n",
    "                    'act_average_composite_score_2018',\n",
    "                    'ACT Composite scores for 2017',\n",
    "                    'ACT Composite scores for 2018',\n",
    "                    'Composite scores for ACT 2017 vs. 2018')\n"
   ]
  },
  {
   "cell_type": "markdown",
   "metadata": {},
   "source": [
    "<span style=\"color: blue\">**Answer:**</span> A handful of states has their total score dropped in 2018, as compared to 2017. \n",
    "Only 2 states had their total score increased.\n",
    "<hr>"
   ]
  },
  {
   "cell_type": "raw",
   "metadata": {},
   "source": [
    "## MARKING COMMENTS:\n",
    "If you need to define the function again and again, it would be better off without the functions.\n",
    "Functions are used to help you to lift off repetitive tasks."
   ]
  },
  {
   "cell_type": "markdown",
   "metadata": {},
   "source": [
    "#### Plot and interpret boxplots\n",
    "\n",
    "For each numeric variable in the dataframe create a boxplot using Seaborn. Boxplots demonstrate central tendency and spread in variables. In a certain sense, these are somewhat redundant with histograms, but you may be better able to identify clear outliers or differences in IQR, etc.\n",
    "\n",
    "Multiple values can be plotted to a single boxplot as long as they are of the same relative scale (meaning they have similar min/max values).\n",
    "\n",
    "Each boxplot should:\n",
    "- Only include variables of a similar scale\n",
    "- Have clear labels for each variable\n",
    "- Have appropriate titles and labels"
   ]
  },
  {
   "cell_type": "code",
   "execution_count": 181,
   "metadata": {},
   "outputs": [
    {
     "data": {
      "image/png": "[encoded data removed]",
      "text/plain": [
       "<Figure size 864x432 with 1 Axes>"
      ]
     },
     "metadata": {},
     "output_type": "display_data"
    }
   ],
   "source": [
    "participation_rates = df.loc[:,['percentage_of_sat_students_tested_in_2017',\n",
    "                                           'percentage_of_sat_students_tested_in_2018',\n",
    "                                           'percentage_of_act_students_tested_in_2017',\n",
    "                                           'percentage_of_act_students_tested_in_2018']]\n",
    "plt.figure(figsize=(12,6))\n",
    "plt.title('The Distribution of ACT and SAT Participation Rates for each State 2017 to 2018', fontsize=20, y=1.05)\n",
    "sns.boxplot(data=participation_rates,orient='h', palette='Set3');"
   ]
  },
  {
   "cell_type": "markdown",
   "metadata": {},
   "source": [
    "<span style=\"color: blue\">**Answer:**</span> There seem to be an overall higher percentage of students taking ACT examinations in 2017 and 2018. \n",
    "<hr>"
   ]
  },
  {
   "cell_type": "markdown",
   "metadata": {},
   "source": [
    "#### Feel free to do additional plots below\n",
    "*(do research and choose your own chart types & variables)*\n",
    "\n",
    "Are there any additional trends or relationships you haven't explored? Was there something interesting you saw that you'd like to dive further into? It's likely that there are a few more plots you might want to generate to support your narrative and recommendations that you are building toward. **As always, make sure you're interpreting your plots as you go**."
   ]
  },
  {
   "cell_type": "markdown",
   "metadata": {},
   "source": [
    "## Descriptive and Inferential Statistics"
   ]
  },
  {
   "cell_type": "markdown",
   "metadata": {},
   "source": [
    "#### Summarizing Distributions\n",
    "\n",
    "Above, we used pandas `describe` to provide quick summary statistics of our numeric columns. We also demonstrated many visual relationships.\n",
    "\n",
    "As data scientists, having a complete understanding of data is imperative prior to modeling.\n",
    "\n",
    "While we will continue to build our analytic tools, we know that measures of *central tendency*, *spread*, and *shape/skewness* provide a quick summary of distributions.\n",
    "\n",
    "For each variable in your data, summarize the underlying distributions (in words & statistics)\n",
    " - Be thorough in your verbal description of these distributions.\n",
    " - Be sure to back up these summaries with statistics."
   ]
  },
  {
   "cell_type": "markdown",
   "metadata": {},
   "source": [
    "#### We generally assuming that data we sample from a population will be normally distributed. Do we observe this trend?"
   ]
  },
  {
   "cell_type": "markdown",
   "metadata": {},
   "source": [
    "<span style=\"color: blue\">**Answer:**</span>\n",
    "No, we do not observe this trend as the data we are given was only 50+ datas which is a mean score from each subject and each state.\n",
    "\n",
    "In order to produce a normal distributed sample, I need to have the result of each individual student from each state, for each subject.\n",
    "<hr>"
   ]
  },
  {
   "cell_type": "markdown",
   "metadata": {},
   "source": [
    "Does This Assumption Hold for:\n",
    "    - Math\n",
    "    - Reading\n",
    "    - Rates  \n",
    "Explain your answers for each distribution and how you think this will affect estimates made from these data."
   ]
  },
  {
   "cell_type": "markdown",
   "metadata": {},
   "source": [
    "<span style=\"color: blue\">**Answer:**</span> Yes, the assumption holds for the above, as the datas are from each other states and each subject as well.\n",
    "<hr>"
   ]
  },
  {
   "cell_type": "markdown",
   "metadata": {},
   "source": [
    "#### Estimate Limits of Data\n",
    "\n",
    "Suppose we only seek to understand the relationship between SAT and ACT participation rates in 2017. \n",
    "\n",
    "##### Does it make sense to conduct statistical inference given these data specifically? \n",
    "\n",
    "Why or why not?\n",
    "\n",
    "*(think about granularity, aggregation, the relationships between populations size & rates...consider the actually populations these data describe in answering this question)*"
   ]
  },
  {
   "cell_type": "markdown",
   "metadata": {},
   "source": [
    "<span style=\"color: blue\">**Answer:**</span> Yes, it does make sense to conduct statistical inference, as the data given is just based on states only, which does not consists of the whole population.\n",
    "<hr>"
   ]
  },
  {
   "cell_type": "markdown",
   "metadata": {},
   "source": [
    "##### Is it appropriate to compare *these* specific SAT and ACT math scores? \n",
    "\n",
    "Why or why not?"
   ]
  },
  {
   "cell_type": "markdown",
   "metadata": {},
   "source": [
    "<span style=\"color: blue\">**Answer:**</span> Yes, it will be an interesting topic to see if the mean scores of each exmamination is link.\n",
    "<hr>"
   ]
  },
  {
   "cell_type": "markdown",
   "metadata": {},
   "source": [
    "#### Statistical Evaluation of Distributions \n",
    "\n",
    "**If you feel it's appropriate**, using methods we discussed in class, run hypothesis tests to compare variables of interest in our dataset. "
   ]
  },
  {
   "cell_type": "code",
   "execution_count": 182,
   "metadata": {},
   "outputs": [
    {
     "data": {
      "image/png": "[encoded data removed]",
      "text/plain": [
       "<Figure size 1440x504 with 2 Axes>"
      ]
     },
     "metadata": {},
     "output_type": "display_data"
    }
   ],
   "source": [
    "fig, axes = plt.subplots(1,2, figsize=(20,7))\n",
    "\n",
    "df['act_avg_math_score_in_2017'].plot(kind='hist', bins=20, fontsize=20, ax=axes[0])\\\n",
    ".set_title('Average math score for ACT 2017', fontsize=24, y=1.01);\n",
    "\n",
    "\n",
    "df['sat_avg_math_score_in_2017'].plot(kind='hist', bins=20, fontsize=20, ax=axes[1])\\\n",
    ".set_title('Average math score for SAT 2017', fontsize=24, y=1.01);\n"
   ]
  },
  {
   "cell_type": "markdown",
   "metadata": {},
   "source": [
    "**Comment:** \n",
    "Based on the graph above, there is a slight similarity in both graphs. The average of SAT Math score is peaking at around 535, a drop around 575, and second peak in the 600s. This shows a group of states has a better results. Mostly likely this second peak is showing higher mean performance in the group of states.\n",
    "As for the average of ACT Math score, there is also a slight peak at the right side of the graph."
   ]
  },
  {
   "cell_type": "markdown",
   "metadata": {},
   "source": [
    "## Outside Research"
   ]
  },
  {
   "cell_type": "markdown",
   "metadata": {},
   "source": [
    "Based upon your observations, choose **three** states that demonstrate interesting trends in their SAT and/or ACT participation rates. Spend some time doing outside research on state policies that might influence these rates, and summarize your findings below. **Feel free to go back and create new plots that highlight these states of interest**. If you bring in any outside tables or charts, make sure you are explicit about having borrowed them. If you quote any text, make sure that it renders as being quoted. (Make sure that you cite your sources -- check with you local instructor for citation preferences)."
   ]
  },
  {
   "cell_type": "markdown",
   "metadata": {},
   "source": [
    "**Answer:**\n",
    "\n",
    "**Three states chosen:**\n",
    "- Ohio\n",
    "- Tennessee\n",
    "- Idaho\n",
    "\n",
    "All 3 states have both SAT or ACT **examinations mandatory**, the interesting thing is that the participation rate went up, so does the average score of math and reading and writing subject.\n",
    "\n",
    "Source: https://magoosh.com/hs/act/2017/states-that-require-the-act-or-sat/\n",
    "\n",
    "According to the source above, this is the 2nd year they are introducing a redesigned SAT exam. So perhaps due to growing familarity, scores will increase in the second and third year of implementation as students become more familiar with the test.\n",
    "\n",
    "In addition, there was a 25 percent increase in SAT test-takers can be attributed to the growth of **SAT School Day**, a program in which students take the SAT in their own school on a weekday.\n",
    "\n",
    "\n",
    "\n"
   ]
  },
  {
   "cell_type": "markdown",
   "metadata": {},
   "source": [
    "## Conclusions and Recommendations"
   ]
  },
  {
   "cell_type": "markdown",
   "metadata": {},
   "source": [
    "Based on your exploration of the data, what are you key takeaways and recommendations? Choose one state with a lower participation rate and provide a suggestion for how the College Board might increase participation amongst graduating seniors in this state. Are there additional data you desire that would better inform your investigations?"
   ]
  },
  {
   "cell_type": "markdown",
   "metadata": {},
   "source": [
    "### Key Takeaways ACT on average has a higher participation rate.\n",
    "Total mean scores for SAT & ACT are negatively correlated with each other in 2017 data. (Referring Correlation_Heatmap_for_SAT_and_ACT above)\n",
    "\n",
    "Reason could be, as there is a higher percentage of students taking the ACT which could be more popular choice, for most average scoring students, they would probably be taking just one exam.\n",
    "\n",
    "Therefore, higher scoring students will take part in SAT to challenge themselves, pushing the score of SAT's average total score to higher.\n",
    "\n",
    "\n",
    "### Conclusion and Recommendation\n",
    "**State Chosen:** California\n",
    "\n",
    "Based on my research California has the highest population among US state. It will be best to target the state with the highest population as this will greatly increase our market share which will increase our overall participation rate.\n",
    "Data source: https://worldpopulationreview.com/states/\n",
    "\n",
    "First recommendation is to create more awareness use SAT fee waiver as only 25% of the students are using it.\n",
    "Data source (page 3): https://reports.collegeboard.org/pdf/2017-total-group-sat-suite-assessments-annual-report.pdf\n",
    "Thefore if we were to increase the number of student using the SAT fee waiver, this will increase the participation rate.\n",
    "\n",
    "Second recommendation is to increase the number of states that has mandatory testing of SATS, currently we only have 10 states.\n",
    "Data source: https://blog.prepscholar.com/act-vs-sat\n",
    "We would like to increase the number to states to take SATS exam mandatory to 12 which in turn increase our participation rate.\n",
    "\n",
    "\n",
    "### Additional Data\n",
    "Additional data such as collecting more granular data on each county or school district in each state, this will help us to identify those low participation rates schools and with that, we can focus more to each individual schools and put in more effort to encourage higher participation rate and awareness of SATs examination."
   ]
  }
 ],
 "metadata": {
  "anaconda-cloud": {},
  "kernelspec": {
   "display_name": "Python 3",
   "language": "python",
   "name": "python3"
  },
  "language_info": {
   "codemirror_mode": {
    "name": "ipython",
    "version": 3
   },
   "file_extension": ".py",
   "mimetype": "text/x-python",
   "name": "python",
   "nbconvert_exporter": "python",
   "pygments_lexer": "ipython3",
   "version": "3.7.6"
  }
 },
 "nbformat": 4,
 "nbformat_minor": 2
}
